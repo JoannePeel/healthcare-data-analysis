{
 "cells": [
  {
   "cell_type": "markdown",
   "metadata": {},
   "source": [
    "## Declaraciones"
   ]
  },
  {
   "cell_type": "code",
   "execution_count": 1,
   "metadata": {},
   "outputs": [],
   "source": [
    "# import\n",
    "import pandas as pd\n",
    "import numpy as np"
   ]
  },
  {
   "cell_type": "markdown",
   "metadata": {},
   "source": [
    "# Joanne"
   ]
  },
  {
   "cell_type": "code",
   "execution_count": null,
   "metadata": {},
   "outputs": [],
   "source": []
  },
  {
   "cell_type": "code",
   "execution_count": null,
   "metadata": {},
   "outputs": [],
   "source": []
  },
  {
   "cell_type": "code",
   "execution_count": null,
   "metadata": {},
   "outputs": [],
   "source": []
  },
  {
   "cell_type": "code",
   "execution_count": null,
   "metadata": {},
   "outputs": [],
   "source": []
  },
  {
   "cell_type": "code",
   "execution_count": null,
   "metadata": {},
   "outputs": [],
   "source": []
  },
  {
   "cell_type": "code",
   "execution_count": null,
   "metadata": {},
   "outputs": [],
   "source": []
  },
  {
   "cell_type": "markdown",
   "metadata": {},
   "source": [
    "---"
   ]
  },
  {
   "cell_type": "markdown",
   "metadata": {},
   "source": [
    "# Daniel"
   ]
  },
  {
   "cell_type": "code",
   "execution_count": null,
   "metadata": {},
   "outputs": [],
   "source": []
  },
  {
   "cell_type": "code",
   "execution_count": null,
   "metadata": {},
   "outputs": [],
   "source": []
  },
  {
   "cell_type": "code",
   "execution_count": null,
   "metadata": {},
   "outputs": [],
   "source": []
  },
  {
   "cell_type": "markdown",
   "metadata": {},
   "source": [
    "---"
   ]
  },
  {
   "cell_type": "markdown",
   "metadata": {},
   "source": [
    "# Joel"
   ]
  },
  {
   "cell_type": "code",
   "execution_count": 63,
   "metadata": {},
   "outputs": [],
   "source": [
    "years = ['2009','2010','2011','2012','2013','2014','2015','2016']"
   ]
  },
  {
   "cell_type": "code",
   "execution_count": 64,
   "metadata": {},
   "outputs": [
    {
     "name": "stdout",
     "output_type": "stream",
     "text": [
      "[LOG]: Processing... Datos/Urgencias_2009/URGENCIAS_2009.csv\n",
      "[LOG]: URGENCIAS_2009.csv processed.\n",
      "[LOG]: Selected: URGENCIAS_2009.csv\n",
      "[LOG]: Appended: URGENCIAS_2009.csv\n",
      "[LOG]: Processing... Datos/Urgencias_2010/URGENCIAS_2010.csv\n",
      "[LOG]: URGENCIAS_2010.csv processed.\n",
      "[LOG]: Selected: URGENCIAS_2010.csv\n",
      "[LOG]: Appended: URGENCIAS_2010.csv\n",
      "[LOG]: Processing... Datos/Urgencias_2011/URGENCIAS_2011.csv\n",
      "[LOG]: URGENCIAS_2011.csv processed.\n",
      "[LOG]: Selected: URGENCIAS_2011.csv\n",
      "[LOG]: Appended: URGENCIAS_2011.csv\n",
      "[LOG]: Processing... Datos/Urgencias_2012/URGENCIAS_2012.csv\n",
      "[LOG]: URGENCIAS_2012.csv processed.\n",
      "[LOG]: Selected: URGENCIAS_2012.csv\n",
      "[LOG]: Appended: URGENCIAS_2012.csv\n",
      "[LOG]: Processing... Datos/Urgencias_2013/URGENCIAS_2013.csv\n",
      "[LOG]: URGENCIAS_2013.csv processed.\n",
      "[LOG]: Selected: URGENCIAS_2013.csv\n",
      "[LOG]: Appended: URGENCIAS_2013.csv\n",
      "[LOG]: Processing... Datos/Urgencias_2014/URGENCIAS_2014.csv\n",
      "[LOG]: URGENCIAS_2014.csv processed.\n",
      "[LOG]: Selected: URGENCIAS_2014.csv\n",
      "[LOG]: Appended: URGENCIAS_2014.csv\n",
      "[LOG]: Processing... Datos/Urgencias_2015/URGENCIAS_2015.csv\n",
      "[LOG]: URGENCIAS_2015.csv processed.\n",
      "[LOG]: Selected: URGENCIAS_2015.csv\n",
      "[LOG]: Appended: URGENCIAS_2015.csv\n",
      "[LOG]: Processing... Datos/Urgencias_2016/URGENCIAS_2016.csv\n",
      "[LOG]: URGENCIAS_2016.csv processed.\n",
      "[LOG]: Selected: URGENCIAS_2016.csv\n",
      "[LOG]: Appended: URGENCIAS_2016.csv\n"
     ]
    }
   ],
   "source": [
    "urgencies = pd.DataFrame(columns=['CLUES','TIPOURGENCIA','MOTATE','YEAR','tmp_trail'])\n",
    "\n",
    "for year in years:\n",
    "    path = f'Datos/Urgencias_{year}/'\n",
    "    file = f'URGENCIAS_{year}.csv'\n",
    "    \n",
    "    try:\n",
    "        # code to process the 2009 file (it doesn't cointain headers)\n",
    "        # ENTRESIDENCIA, MP y TIPOURGENCIA se empieza a reportar a partir del año 2010\n",
    "        # MUNRESIDENCIA se empieza a reportar a partir del año 2012\n",
    "        if year in ['2009']:\n",
    "            print(f'[LOG]: Processing... {path+file}')\n",
    "            urgencies_tmp = pd.read_csv(path+file, sep=\";\", header=None, \n",
    "                    names=['ID','CLUES','FOLIO','FECHAALTA',\n",
    "                    'EDAD','CVEEDAD','SEXO',#'ENTRESIDENCIA','MUNRESIDENCIA',\n",
    "                    'DERHAB',#'TIPOURGENCIA',\n",
    "                    'MOTATE','TIPOCAMA','ENVIADOA',#'MP',\n",
    "                    'AFECPRIN','IRA','PLANEDA','SOBRESEDA',\n",
    "                    'FECHAINGRESO','HORASESTANCIA','MES_ESTADISTICO',\n",
    "                    'HORAINIATE','MININIATE','HORATERATE','MINTERATE'],\n",
    "                    dtype={'ID': object,'CLUES': object,'FOLIO': object,'FECHAALTA': object,\n",
    "                    'EDAD': object,'CVEEDAD': object,'SEXO': object,#'ENTRESIDENCIA': object, 'MUNRESIDENCIA': object,\n",
    "                    'DERHAB': object,#'TIPOURGENCIA': np.float64,\n",
    "                    'MOTATE': np.float64,'TIPOCAMA': object,'ENVIADOA': object,#'MP': object,\n",
    "                    'AFECPRIN': object,'IRA': object,'PLANEDA': object,'SOBRESEDA': object,\n",
    "                    'FECHAINGRESO': object,'HORASESTANCIA': object,'MES_ESTADISTICO': object,\n",
    "                    'HORAINIATE': object,'MININIATE': object,'HORATERATE': object,'MINTERATE': object})\n",
    "            print(f'[LOG]: {file} processed.')\n",
    "        # code to process the 2010 & 2011 files (it doesn't cointain headers)\n",
    "        # MUNRESIDENCIA se empieza a reportar a partir del año 2012\n",
    "        elif year in ['2010','2011']:\n",
    "            print(f'[LOG]: Processing... {path+file}')\n",
    "            urgencies_tmp = pd.read_csv(path+file, sep=\";\", header=None, \n",
    "                    names=['ID','CLUES','FOLIO','FECHAALTA',\n",
    "                    'EDAD','CVEEDAD','SEXO','ENTRESIDENCIA',\n",
    "                    #'MUNRESIDENCIA',\n",
    "                    'DERHAB','TIPOURGENCIA',\n",
    "                    'MOTATE','TIPOCAMA','ENVIADOA','MP',\n",
    "                    'AFECPRIN','IRA','PLANEDA','SOBRESEDA',\n",
    "                    'FECHAINGRESO','HORASESTANCIA','MES_ESTADISTICO',\n",
    "                    'HORAINIATE','MININIATE','HORATERATE','MINTERATE'],\n",
    "                    dtype={'ID': object,'CLUES': object,'FOLIO': object,'FECHAALTA': object,\n",
    "                    'EDAD': object,'CVEEDAD': object,'SEXO': object,'ENTRESIDENCIA': object,\n",
    "                    #'MUNRESIDENCIA': object,\n",
    "                    'DERHAB': object,'TIPOURGENCIA': np.float64,\n",
    "                    'MOTATE': np.float64,'TIPOCAMA': object,'ENVIADOA': object,'MP': object,\n",
    "                    'AFECPRIN': object,'IRA': object,'PLANEDA': object,'SOBRESEDA': object,\n",
    "                    'FECHAINGRESO': object,'HORASESTANCIA': object,'MES_ESTADISTICO': object,\n",
    "                    'HORAINIATE': object,'MININIATE': object,'HORATERATE': object,'MINTERATE': object})\n",
    "            print(f'[LOG]: {file} processed.')\n",
    "        # code to process the 2012, 2013 & 2014 file (it doesn't cointain headers)\n",
    "        elif year in ['2012','2013','2014']:\n",
    "            print(f'[LOG]: Processing... {path+file}')\n",
    "            urgencies_tmp = pd.read_csv(path+file, sep=\";\", header=None, \n",
    "                    names=['ID','CLUES','FOLIO','FECHAALTA',\n",
    "                    'EDAD','CVEEDAD','SEXO','ENTRESIDENCIA',\n",
    "                    'MUNRESIDENCIA','DERHAB','TIPOURGENCIA',\n",
    "                    'MOTATE','TIPOCAMA','ENVIADOA','MP',\n",
    "                    'AFECPRIN','IRA','PLANEDA','SOBRESEDA',\n",
    "                    'FECHAINGRESO','HORASESTANCIA','MES_ESTADISTICO',\n",
    "                    'HORAINIATE','MININIATE','HORATERATE','MINTERATE'],\n",
    "                    dtype={'ID': object,'CLUES': object,'FOLIO': object,'FECHAALTA': object,\n",
    "                    'EDAD': object,'CVEEDAD': object,'SEXO': object,'ENTRESIDENCIA': object,\n",
    "                    'MUNRESIDENCIA': object,'DERHAB': object,'TIPOURGENCIA': np.float64,\n",
    "                    'MOTATE': np.float64,'TIPOCAMA': object,'ENVIADOA': object,'MP': object,\n",
    "                    'AFECPRIN': object,'IRA': object,'PLANEDA': object,'SOBRESEDA': object,\n",
    "                    'FECHAINGRESO': object,'HORASESTANCIA': object,'MES_ESTADISTICO': object,\n",
    "                    'HORAINIATE': object,'MININIATE': object,'HORATERATE': object,'MINTERATE': object})\n",
    "            print(f'[LOG]: {file} processed.')\n",
    "        # code to process the 2015 & 2016 file \n",
    "        else:\n",
    "            print(f'[LOG]: Processing... {path+file}')\n",
    "            urgencies_tmp = pd.read_csv(path+file,\n",
    "                    dtype={'ID': object,'CLUES': object,'FOLIO': object,'FECHAALTA': object,\n",
    "                    'EDAD': object,'CVEEDAD': object,'SEXO': object,'ENTRESIDENCIA': object,\n",
    "                    'MUNRESIDENCIA': object,'DERHAB': object,'TIPOURGENCIA': np.float64,\n",
    "                    'MOTATE': np.float64,'TIPOCAMA': object,'ENVIADOA': object,'MP': object,\n",
    "                    'AFECPRIN': object,'IRA': object,'PLANEDA': object,'SOBRESEDA': object,\n",
    "                    'FECHAINGRESO': object,'HORASESTANCIA': object,'MES_ESTADISTICO': object,\n",
    "                    'HORAINIATE': object,'MININIATE': object,'HORATERATE': object,'MINTERATE': object})\n",
    "            print(f'[LOG]: {file} processed.')\n",
    "        \n",
    "        if year in ['2009']:\n",
    "            urgencies_tmp['TIPOURGENCIA'] = -1\n",
    "        \n",
    "        urgencies_tmp = urgencies_tmp[['CLUES','TIPOURGENCIA','MOTATE']]\n",
    "        urgencies_tmp['YEAR'] = year\n",
    "        urgencies_tmp['tmp_trail'] = 1\n",
    "        \n",
    "        print(f'[LOG]: Selected: {file}')\n",
    "        \n",
    "        urgencies = pd.concat([urgencies, urgencies_tmp], ignore_index=True)\n",
    "        \n",
    "        \n",
    "        print(f'[LOG]: Appended: {file}')\n",
    "        \n",
    "        \n",
    "    except:\n",
    "        print(f'[LOG]: Error: {file}')\n",
    "    "
   ]
  },
  {
   "cell_type": "code",
   "execution_count": 65,
   "metadata": {},
   "outputs": [
    {
     "data": {
      "text/html": [
       "<div>\n",
       "<style scoped>\n",
       "    .dataframe tbody tr th:only-of-type {\n",
       "        vertical-align: middle;\n",
       "    }\n",
       "\n",
       "    .dataframe tbody tr th {\n",
       "        vertical-align: top;\n",
       "    }\n",
       "\n",
       "    .dataframe thead th {\n",
       "        text-align: right;\n",
       "    }\n",
       "</style>\n",
       "<table border=\"1\" class=\"dataframe\">\n",
       "  <thead>\n",
       "    <tr style=\"text-align: right;\">\n",
       "      <th></th>\n",
       "      <th>YEAR</th>\n",
       "      <th>count</th>\n",
       "    </tr>\n",
       "  </thead>\n",
       "  <tbody>\n",
       "    <tr>\n",
       "      <th>0</th>\n",
       "      <td>2009</td>\n",
       "      <td>7344442</td>\n",
       "    </tr>\n",
       "    <tr>\n",
       "      <th>1</th>\n",
       "      <td>2010</td>\n",
       "      <td>7816941</td>\n",
       "    </tr>\n",
       "    <tr>\n",
       "      <th>2</th>\n",
       "      <td>2011</td>\n",
       "      <td>8579204</td>\n",
       "    </tr>\n",
       "    <tr>\n",
       "      <th>3</th>\n",
       "      <td>2012</td>\n",
       "      <td>9510442</td>\n",
       "    </tr>\n",
       "    <tr>\n",
       "      <th>4</th>\n",
       "      <td>2013</td>\n",
       "      <td>10041694</td>\n",
       "    </tr>\n",
       "    <tr>\n",
       "      <th>5</th>\n",
       "      <td>2014</td>\n",
       "      <td>10645625</td>\n",
       "    </tr>\n",
       "    <tr>\n",
       "      <th>6</th>\n",
       "      <td>2015</td>\n",
       "      <td>10918860</td>\n",
       "    </tr>\n",
       "    <tr>\n",
       "      <th>7</th>\n",
       "      <td>2016</td>\n",
       "      <td>10554908</td>\n",
       "    </tr>\n",
       "  </tbody>\n",
       "</table>\n",
       "</div>"
      ],
      "text/plain": [
       "   YEAR     count\n",
       "0  2009   7344442\n",
       "1  2010   7816941\n",
       "2  2011   8579204\n",
       "3  2012   9510442\n",
       "4  2013  10041694\n",
       "5  2014  10645625\n",
       "6  2015  10918860\n",
       "7  2016  10554908"
      ]
     },
     "execution_count": 65,
     "metadata": {},
     "output_type": "execute_result"
    }
   ],
   "source": [
    "urgencies_by_year = urgencies.groupby(['YEAR'])[\"tmp_trail\"].count().reset_index(name=\"count\")\n",
    "\n",
    "urgencies_by_year"
   ]
  },
  {
   "cell_type": "code",
   "execution_count": 66,
   "metadata": {},
   "outputs": [
    {
     "data": {
      "text/html": [
       "<div>\n",
       "<style scoped>\n",
       "    .dataframe tbody tr th:only-of-type {\n",
       "        vertical-align: middle;\n",
       "    }\n",
       "\n",
       "    .dataframe tbody tr th {\n",
       "        vertical-align: top;\n",
       "    }\n",
       "\n",
       "    .dataframe thead th {\n",
       "        text-align: right;\n",
       "    }\n",
       "</style>\n",
       "<table border=\"1\" class=\"dataframe\">\n",
       "  <thead>\n",
       "    <tr style=\"text-align: right;\">\n",
       "      <th></th>\n",
       "      <th>CLUES</th>\n",
       "      <th>TIPOURGENCIA</th>\n",
       "      <th>MOTATE</th>\n",
       "      <th>YEAR</th>\n",
       "      <th>tmp_trail</th>\n",
       "    </tr>\n",
       "  </thead>\n",
       "  <tbody>\n",
       "    <tr>\n",
       "      <th>0</th>\n",
       "      <td>CCSSA000100</td>\n",
       "      <td>-1</td>\n",
       "      <td>6.0</td>\n",
       "      <td>2009</td>\n",
       "      <td>1</td>\n",
       "    </tr>\n",
       "    <tr>\n",
       "      <th>1</th>\n",
       "      <td>CCSSA000100</td>\n",
       "      <td>-1</td>\n",
       "      <td>6.0</td>\n",
       "      <td>2009</td>\n",
       "      <td>1</td>\n",
       "    </tr>\n",
       "    <tr>\n",
       "      <th>2</th>\n",
       "      <td>CCSSA000100</td>\n",
       "      <td>-1</td>\n",
       "      <td>6.0</td>\n",
       "      <td>2009</td>\n",
       "      <td>1</td>\n",
       "    </tr>\n",
       "    <tr>\n",
       "      <th>3</th>\n",
       "      <td>CCSSA000100</td>\n",
       "      <td>-1</td>\n",
       "      <td>6.0</td>\n",
       "      <td>2009</td>\n",
       "      <td>1</td>\n",
       "    </tr>\n",
       "    <tr>\n",
       "      <th>4</th>\n",
       "      <td>CCSSA000100</td>\n",
       "      <td>-1</td>\n",
       "      <td>6.0</td>\n",
       "      <td>2009</td>\n",
       "      <td>1</td>\n",
       "    </tr>\n",
       "  </tbody>\n",
       "</table>\n",
       "</div>"
      ],
      "text/plain": [
       "         CLUES TIPOURGENCIA  MOTATE  YEAR tmp_trail\n",
       "0  CCSSA000100           -1     6.0  2009         1\n",
       "1  CCSSA000100           -1     6.0  2009         1\n",
       "2  CCSSA000100           -1     6.0  2009         1\n",
       "3  CCSSA000100           -1     6.0  2009         1\n",
       "4  CCSSA000100           -1     6.0  2009         1"
      ]
     },
     "execution_count": 66,
     "metadata": {},
     "output_type": "execute_result"
    }
   ],
   "source": [
    "urgencies.head()"
   ]
  },
  {
   "cell_type": "code",
   "execution_count": 67,
   "metadata": {},
   "outputs": [
    {
     "data": {
      "text/plain": [
       "CLUES           75412116\n",
       "TIPOURGENCIA    75412116\n",
       "MOTATE          72899234\n",
       "YEAR            75412116\n",
       "tmp_trail       75412116\n",
       "dtype: int64"
      ]
     },
     "execution_count": 67,
     "metadata": {},
     "output_type": "execute_result"
    }
   ],
   "source": [
    "urgencies.count()"
   ]
  },
  {
   "cell_type": "code",
   "execution_count": 68,
   "metadata": {},
   "outputs": [
    {
     "data": {
      "text/plain": [
       "CLUES           7017663\n",
       "TIPOURGENCIA    7017663\n",
       "MOTATE          6934208\n",
       "YEAR            7017663\n",
       "tmp_trail       7017663\n",
       "dtype: int64"
      ]
     },
     "execution_count": 68,
     "metadata": {},
     "output_type": "execute_result"
    }
   ],
   "source": [
    "urgencies_cdmx = urgencies[(urgencies['CLUES'].str.contains(\"DF\"))]\n",
    "\n",
    "urgencies_cdmx.count()"
   ]
  },
  {
   "cell_type": "code",
   "execution_count": 254,
   "metadata": {},
   "outputs": [
    {
     "data": {
      "text/html": [
       "<div>\n",
       "<style scoped>\n",
       "    .dataframe tbody tr th:only-of-type {\n",
       "        vertical-align: middle;\n",
       "    }\n",
       "\n",
       "    .dataframe tbody tr th {\n",
       "        vertical-align: top;\n",
       "    }\n",
       "\n",
       "    .dataframe thead th {\n",
       "        text-align: right;\n",
       "    }\n",
       "</style>\n",
       "<table border=\"1\" class=\"dataframe\">\n",
       "  <thead>\n",
       "    <tr style=\"text-align: right;\">\n",
       "      <th></th>\n",
       "      <th>CLUES</th>\n",
       "      <th>TIPOURGENCIA</th>\n",
       "      <th>MOTATE</th>\n",
       "      <th>YEAR</th>\n",
       "      <th>count</th>\n",
       "    </tr>\n",
       "  </thead>\n",
       "  <tbody>\n",
       "    <tr>\n",
       "      <th>0</th>\n",
       "      <td>DFSSA000053</td>\n",
       "      <td>-1.0</td>\n",
       "      <td>1.0</td>\n",
       "      <td>2009</td>\n",
       "      <td>1278</td>\n",
       "    </tr>\n",
       "    <tr>\n",
       "      <th>1</th>\n",
       "      <td>DFSSA000053</td>\n",
       "      <td>-1.0</td>\n",
       "      <td>2.0</td>\n",
       "      <td>2009</td>\n",
       "      <td>8524</td>\n",
       "    </tr>\n",
       "    <tr>\n",
       "      <th>2</th>\n",
       "      <td>DFSSA000053</td>\n",
       "      <td>-1.0</td>\n",
       "      <td>3.0</td>\n",
       "      <td>2009</td>\n",
       "      <td>19</td>\n",
       "    </tr>\n",
       "    <tr>\n",
       "      <th>3</th>\n",
       "      <td>DFSSA000053</td>\n",
       "      <td>-1.0</td>\n",
       "      <td>5.0</td>\n",
       "      <td>2009</td>\n",
       "      <td>4</td>\n",
       "    </tr>\n",
       "    <tr>\n",
       "      <th>4</th>\n",
       "      <td>DFSSA000053</td>\n",
       "      <td>-1.0</td>\n",
       "      <td>6.0</td>\n",
       "      <td>2009</td>\n",
       "      <td>24029</td>\n",
       "    </tr>\n",
       "  </tbody>\n",
       "</table>\n",
       "</div>"
      ],
      "text/plain": [
       "         CLUES  TIPOURGENCIA  MOTATE  YEAR  count\n",
       "0  DFSSA000053          -1.0     1.0  2009   1278\n",
       "1  DFSSA000053          -1.0     2.0  2009   8524\n",
       "2  DFSSA000053          -1.0     3.0  2009     19\n",
       "3  DFSSA000053          -1.0     5.0  2009      4\n",
       "4  DFSSA000053          -1.0     6.0  2009  24029"
      ]
     },
     "execution_count": 254,
     "metadata": {},
     "output_type": "execute_result"
    }
   ],
   "source": [
    "urgencies_cdmx_grouped = urgencies_cdmx.groupby(['CLUES','TIPOURGENCIA','MOTATE','YEAR'])[\"tmp_trail\"].count().reset_index(name=\"count\")\n",
    "\n",
    "urgencies_cdmx_grouped.head()"
   ]
  },
  {
   "cell_type": "code",
   "execution_count": 255,
   "metadata": {},
   "outputs": [
    {
     "data": {
      "text/plain": [
       "CLUES           2184\n",
       "TIPOURGENCIA    2184\n",
       "MOTATE          2184\n",
       "YEAR            2184\n",
       "count           2184\n",
       "dtype: int64"
      ]
     },
     "execution_count": 255,
     "metadata": {},
     "output_type": "execute_result"
    }
   ],
   "source": [
    "urgencies_cdmx_grouped.count()"
   ]
  },
  {
   "cell_type": "code",
   "execution_count": 256,
   "metadata": {},
   "outputs": [],
   "source": [
    "output_file = 'data_output/urgencies_by_date.csv'\n",
    "\n",
    "urgencies_cdmx_grouped.to_csv(output_file, encoding='utf-8', index=False)"
   ]
  },
  {
   "cell_type": "markdown",
   "metadata": {},
   "source": [
    "---"
   ]
  },
  {
   "cell_type": "code",
   "execution_count": 257,
   "metadata": {},
   "outputs": [],
   "source": [
    "### Upload the file  (to not process all the info twice)\n",
    "\n",
    "#output_file = 'data_output/urgencies_by_date.csv'\n",
    "\n",
    "#urgencies_cdmx_grouped = pd.read_csv(output_file)"
   ]
  },
  {
   "cell_type": "code",
   "execution_count": 258,
   "metadata": {},
   "outputs": [
    {
     "data": {
      "text/html": [
       "<div>\n",
       "<style scoped>\n",
       "    .dataframe tbody tr th:only-of-type {\n",
       "        vertical-align: middle;\n",
       "    }\n",
       "\n",
       "    .dataframe tbody tr th {\n",
       "        vertical-align: top;\n",
       "    }\n",
       "\n",
       "    .dataframe thead th {\n",
       "        text-align: right;\n",
       "    }\n",
       "</style>\n",
       "<table border=\"1\" class=\"dataframe\">\n",
       "  <thead>\n",
       "    <tr style=\"text-align: right;\">\n",
       "      <th></th>\n",
       "      <th>CLUES</th>\n",
       "      <th>TIPOURGENCIA</th>\n",
       "      <th>MOTATE</th>\n",
       "      <th>YEAR</th>\n",
       "      <th>count</th>\n",
       "    </tr>\n",
       "  </thead>\n",
       "  <tbody>\n",
       "    <tr>\n",
       "      <th>0</th>\n",
       "      <td>DFSSA000053</td>\n",
       "      <td>-1.0</td>\n",
       "      <td>1.0</td>\n",
       "      <td>2009</td>\n",
       "      <td>1278</td>\n",
       "    </tr>\n",
       "    <tr>\n",
       "      <th>1</th>\n",
       "      <td>DFSSA000053</td>\n",
       "      <td>-1.0</td>\n",
       "      <td>2.0</td>\n",
       "      <td>2009</td>\n",
       "      <td>8524</td>\n",
       "    </tr>\n",
       "    <tr>\n",
       "      <th>2</th>\n",
       "      <td>DFSSA000053</td>\n",
       "      <td>-1.0</td>\n",
       "      <td>3.0</td>\n",
       "      <td>2009</td>\n",
       "      <td>19</td>\n",
       "    </tr>\n",
       "    <tr>\n",
       "      <th>3</th>\n",
       "      <td>DFSSA000053</td>\n",
       "      <td>-1.0</td>\n",
       "      <td>5.0</td>\n",
       "      <td>2009</td>\n",
       "      <td>4</td>\n",
       "    </tr>\n",
       "    <tr>\n",
       "      <th>4</th>\n",
       "      <td>DFSSA000053</td>\n",
       "      <td>-1.0</td>\n",
       "      <td>6.0</td>\n",
       "      <td>2009</td>\n",
       "      <td>24029</td>\n",
       "    </tr>\n",
       "  </tbody>\n",
       "</table>\n",
       "</div>"
      ],
      "text/plain": [
       "         CLUES  TIPOURGENCIA  MOTATE  YEAR  count\n",
       "0  DFSSA000053          -1.0     1.0  2009   1278\n",
       "1  DFSSA000053          -1.0     2.0  2009   8524\n",
       "2  DFSSA000053          -1.0     3.0  2009     19\n",
       "3  DFSSA000053          -1.0     5.0  2009      4\n",
       "4  DFSSA000053          -1.0     6.0  2009  24029"
      ]
     },
     "execution_count": 258,
     "metadata": {},
     "output_type": "execute_result"
    }
   ],
   "source": [
    "urgencies_cdmx_grouped.head()"
   ]
  },
  {
   "cell_type": "code",
   "execution_count": 259,
   "metadata": {},
   "outputs": [],
   "source": [
    "\n",
    "CatTipoUrgencia = {1:\"URGENCIA CALIFICADA\", \n",
    "                    2:\"URGENCIA NO CALIFICADA\", \n",
    "                    3:\"APOYO A SERVICIOS DE MEDICINA GENERAL\"}\n",
    "\n",
    "CatMotAtencionUrg = {1:\"ACCIDENTES, ENVENENAMIENTO Y VIOLENCIAS\", \n",
    "                    2:\"MEDICA\", \n",
    "                    3:\"GINECO-OBSTETRICA\", \n",
    "                    4:\"PEDIATRICA\", \n",
    "                    9:\"NO ESPECIFICADO\"}\n",
    "\n",
    "CatMotAtencionUrg_2008 = {1:\"(AEV) ACCIDENTES, ENVENENAMIENTO Y VIOLENCIAS\",\n",
    "                    2:\"(UC) URGENCIA CALIFICADA\",\n",
    "                    3:\"(UNC) URGENCIA NO CALIFICADA\",\n",
    "                    4:\"TRABAJO DE PARTO\",\n",
    "                    9:\"NO ESPECIFICADO\"}\n",
    "\n",
    "CatMotAtencionUrg_2009 = {1:\"ACCIDENTES, ENVENENAMIENTO Y VIOLENCIAS\",\n",
    "                    2:\"URGENCIA CALIFICADA MEDICA\",\n",
    "                    3:\"URGENCIA CALIFICADA QUIRURGICA\",\n",
    "                    4:\"URGENCIA CALIFICADA GINECO-OBSTETRICA\",\n",
    "                    5:\"URGENCIA CALIFICADA PEDIATRICA\",\n",
    "                    6:\"URGENCIA NO CALIFICADA\",\n",
    "                    7:\"APOYO A SERVICIOS DE MEDICINA GENERAL\",\n",
    "                    9:\"NO ESPECIFICADO\"}\n",
    "\n"
   ]
  },
  {
   "cell_type": "code",
   "execution_count": 260,
   "metadata": {},
   "outputs": [
    {
     "name": "stdout",
     "output_type": "stream",
     "text": [
      "1 - URGENCIA CALIFICADA\n",
      "2 - URGENCIA NO CALIFICADA\n",
      "3 - APOYO A SERVICIOS DE MEDICINA GENERAL\n",
      "------\n",
      "1 - ACCIDENTES, ENVENENAMIENTO Y VIOLENCIAS\n",
      "2 - MEDICA\n",
      "3 - GINECO-OBSTETRICA\n",
      "4 - PEDIATRICA\n",
      "9 - NO ESPECIFICADO\n",
      "------\n",
      "1 - ACCIDENTES, ENVENENAMIENTO Y VIOLENCIAS\n",
      "2 - URGENCIA CALIFICADA MEDICA\n",
      "3 - URGENCIA CALIFICADA QUIRURGICA\n",
      "4 - URGENCIA CALIFICADA GINECO-OBSTETRICA\n",
      "5 - URGENCIA CALIFICADA PEDIATRICA\n",
      "6 - URGENCIA NO CALIFICADA\n",
      "7 - APOYO A SERVICIOS DE MEDICINA GENERAL\n",
      "9 - NO ESPECIFICADO\n",
      "------ Fix 2009 - 1 - URGENCIA CALIFICADA\n",
      "------ Fix 2009 - 2 - URGENCIA NO CALIFICADA\n",
      "------ Fix 2009 - 3 - APOYO A SERVICIOS DE MEDICINA GENERAL\n",
      "------\n",
      "1 - URGENCIA CALIFICADA\n",
      "2 - URGENCIA NO CALIFICADA\n",
      "3 - APOYO A SERVICIOS DE MEDICINA GENERAL\n",
      "------ Fix 2009 MOTATE Fix\n"
     ]
    }
   ],
   "source": [
    "urgencies_cdmx_grouped['TIPOURGENCIA_V'] = ''\n",
    "urgencies_cdmx_grouped['MOTATE_V'] = ''\n",
    "\n",
    "for key, value in CatTipoUrgencia.items():\n",
    "    print(f'{key} - {value}')\n",
    "    urgencies_cdmx_grouped['TIPOURGENCIA_V'] = np.where(urgencies_cdmx_grouped['TIPOURGENCIA']==key, \n",
    "                                                        value, urgencies_cdmx_grouped['TIPOURGENCIA_V'])\n",
    "    \n",
    "print('------')    \n",
    "\n",
    "for key, value in CatMotAtencionUrg.items():\n",
    "    print(f'{key} - {value}')\n",
    "    urgencies_cdmx_grouped['MOTATE_V'] = np.where( (urgencies_cdmx_grouped['MOTATE']==key), \n",
    "                                                  value, urgencies_cdmx_grouped['MOTATE_V'])\n",
    "\n",
    "print('------')    \n",
    "\n",
    "for key, value in CatMotAtencionUrg_2009.items():\n",
    "    print(f'{key} - {value}')\n",
    "    urgencies_cdmx_grouped['MOTATE_V'] = np.where((urgencies_cdmx_grouped['MOTATE']==key) & \n",
    "                                                  (urgencies_cdmx_grouped['YEAR']=='2009'), \n",
    "                                                  value, urgencies_cdmx_grouped['MOTATE_V'])\n",
    "\n",
    "print('------ Fix 2009 - 1 - URGENCIA CALIFICADA')    \n",
    "\n",
    "\n",
    "urgencies_cdmx_grouped['TIPOURGENCIA'] = np.where((urgencies_cdmx_grouped['MOTATE'].isin([2,3,4,5])) &\n",
    "                                                    (urgencies_cdmx_grouped['YEAR']=='2009'), \n",
    "                                                    1, urgencies_cdmx_grouped['TIPOURGENCIA'])\n",
    "\n",
    "print('------ Fix 2009 - 2 - URGENCIA NO CALIFICADA')    \n",
    "\n",
    "\n",
    "urgencies_cdmx_grouped['TIPOURGENCIA'] = np.where((urgencies_cdmx_grouped['MOTATE'] == 6) &\n",
    "                                                    (urgencies_cdmx_grouped['YEAR']=='2009'), \n",
    "                                                    2, urgencies_cdmx_grouped['TIPOURGENCIA'])\n",
    "\n",
    "\n",
    "print('------ Fix 2009 - 3 - APOYO A SERVICIOS DE MEDICINA GENERAL')    \n",
    "\n",
    "\n",
    "urgencies_cdmx_grouped['TIPOURGENCIA'] = np.where((urgencies_cdmx_grouped['MOTATE'] == 7) &\n",
    "                                                    (urgencies_cdmx_grouped['YEAR']=='2009'), \n",
    "                                                    3, urgencies_cdmx_grouped['TIPOURGENCIA'])\n",
    "\n",
    "    \n",
    "print('------')  \n",
    "    \n",
    "for key, value in CatTipoUrgencia.items():\n",
    "    print(f'{key} - {value}')\n",
    "    urgencies_cdmx_grouped['TIPOURGENCIA_V'] = np.where( (urgencies_cdmx_grouped['TIPOURGENCIA']==key) &\n",
    "                                                        (urgencies_cdmx_grouped['YEAR']=='2009'), \n",
    "                                                        value, urgencies_cdmx_grouped['TIPOURGENCIA_V'])\n",
    "\n",
    "print('------ Fix 2009 MOTATE Fix') \n",
    "urgencies_cdmx_grouped['MOTATE_V'] = np.where((urgencies_cdmx_grouped['MOTATE_V']==\"URGENCIA CALIFICADA MEDICA\") & \n",
    "                                                  (urgencies_cdmx_grouped['YEAR']=='2009'), \n",
    "                                                  \"MEDICA\", urgencies_cdmx_grouped['MOTATE_V'])\n",
    "\n",
    "urgencies_cdmx_grouped['MOTATE_V'] = np.where((urgencies_cdmx_grouped['MOTATE_V']==\"URGENCIA CALIFICADA QUIRURGICA\") & \n",
    "                                                  (urgencies_cdmx_grouped['YEAR']=='2009'), \n",
    "                                                  \"QUIRURGICA\", urgencies_cdmx_grouped['MOTATE_V'])\n",
    "\n",
    "urgencies_cdmx_grouped['MOTATE_V'] = np.where((urgencies_cdmx_grouped['MOTATE_V']==\"URGENCIA CALIFICADA GINECO-OBSTETRICA\") & \n",
    "                                                  (urgencies_cdmx_grouped['YEAR']=='2009'), \n",
    "                                                  \"GINECO-OBSTETRICA\", urgencies_cdmx_grouped['MOTATE_V'])\n",
    "\n",
    "urgencies_cdmx_grouped['MOTATE_V'] = np.where((urgencies_cdmx_grouped['MOTATE_V']==\"URGENCIA CALIFICADA PEDIATRICA\") & \n",
    "                                                  (urgencies_cdmx_grouped['YEAR']=='2009'), \n",
    "                                                  \"PEDIATRICA\", urgencies_cdmx_grouped['MOTATE_V'])\n",
    "    \n"
   ]
  },
  {
   "cell_type": "markdown",
   "metadata": {},
   "source": [
    "---"
   ]
  },
  {
   "cell_type": "code",
   "execution_count": 261,
   "metadata": {},
   "outputs": [
    {
     "data": {
      "text/html": [
       "<div>\n",
       "<style scoped>\n",
       "    .dataframe tbody tr th:only-of-type {\n",
       "        vertical-align: middle;\n",
       "    }\n",
       "\n",
       "    .dataframe tbody tr th {\n",
       "        vertical-align: top;\n",
       "    }\n",
       "\n",
       "    .dataframe thead th {\n",
       "        text-align: right;\n",
       "    }\n",
       "</style>\n",
       "<table border=\"1\" class=\"dataframe\">\n",
       "  <thead>\n",
       "    <tr style=\"text-align: right;\">\n",
       "      <th></th>\n",
       "      <th>CLUES</th>\n",
       "      <th>TIPOURGENCIA</th>\n",
       "      <th>MOTATE</th>\n",
       "      <th>YEAR</th>\n",
       "      <th>count</th>\n",
       "      <th>TIPOURGENCIA_V</th>\n",
       "      <th>MOTATE_V</th>\n",
       "    </tr>\n",
       "  </thead>\n",
       "  <tbody>\n",
       "    <tr>\n",
       "      <th>0</th>\n",
       "      <td>DFSSA000053</td>\n",
       "      <td>-1.0</td>\n",
       "      <td>1.0</td>\n",
       "      <td>2009</td>\n",
       "      <td>1278</td>\n",
       "      <td></td>\n",
       "      <td>ACCIDENTES, ENVENENAMIENTO Y VIOLENCIAS</td>\n",
       "    </tr>\n",
       "    <tr>\n",
       "      <th>1</th>\n",
       "      <td>DFSSA000053</td>\n",
       "      <td>1.0</td>\n",
       "      <td>2.0</td>\n",
       "      <td>2009</td>\n",
       "      <td>8524</td>\n",
       "      <td>URGENCIA CALIFICADA</td>\n",
       "      <td>MEDICA</td>\n",
       "    </tr>\n",
       "    <tr>\n",
       "      <th>2</th>\n",
       "      <td>DFSSA000053</td>\n",
       "      <td>1.0</td>\n",
       "      <td>3.0</td>\n",
       "      <td>2009</td>\n",
       "      <td>19</td>\n",
       "      <td>URGENCIA CALIFICADA</td>\n",
       "      <td>QUIRURGICA</td>\n",
       "    </tr>\n",
       "    <tr>\n",
       "      <th>3</th>\n",
       "      <td>DFSSA000053</td>\n",
       "      <td>1.0</td>\n",
       "      <td>5.0</td>\n",
       "      <td>2009</td>\n",
       "      <td>4</td>\n",
       "      <td>URGENCIA CALIFICADA</td>\n",
       "      <td>PEDIATRICA</td>\n",
       "    </tr>\n",
       "    <tr>\n",
       "      <th>4</th>\n",
       "      <td>DFSSA000053</td>\n",
       "      <td>2.0</td>\n",
       "      <td>6.0</td>\n",
       "      <td>2009</td>\n",
       "      <td>24029</td>\n",
       "      <td>URGENCIA NO CALIFICADA</td>\n",
       "      <td>URGENCIA NO CALIFICADA</td>\n",
       "    </tr>\n",
       "  </tbody>\n",
       "</table>\n",
       "</div>"
      ],
      "text/plain": [
       "         CLUES  TIPOURGENCIA  MOTATE  YEAR  count          TIPOURGENCIA_V  \\\n",
       "0  DFSSA000053          -1.0     1.0  2009   1278                           \n",
       "1  DFSSA000053           1.0     2.0  2009   8524     URGENCIA CALIFICADA   \n",
       "2  DFSSA000053           1.0     3.0  2009     19     URGENCIA CALIFICADA   \n",
       "3  DFSSA000053           1.0     5.0  2009      4     URGENCIA CALIFICADA   \n",
       "4  DFSSA000053           2.0     6.0  2009  24029  URGENCIA NO CALIFICADA   \n",
       "\n",
       "                                  MOTATE_V  \n",
       "0  ACCIDENTES, ENVENENAMIENTO Y VIOLENCIAS  \n",
       "1                                   MEDICA  \n",
       "2                               QUIRURGICA  \n",
       "3                               PEDIATRICA  \n",
       "4                   URGENCIA NO CALIFICADA  "
      ]
     },
     "execution_count": 261,
     "metadata": {},
     "output_type": "execute_result"
    }
   ],
   "source": [
    "urgencies_cdmx_grouped.head()"
   ]
  },
  {
   "cell_type": "code",
   "execution_count": 262,
   "metadata": {},
   "outputs": [
    {
     "name": "stdout",
     "output_type": "stream",
     "text": [
      "[-1.  1.  2.  3.]\n",
      "['' 'URGENCIA CALIFICADA' 'URGENCIA NO CALIFICADA'\n",
      " 'APOYO A SERVICIOS DE MEDICINA GENERAL']\n"
     ]
    }
   ],
   "source": [
    "print(urgencies_cdmx_grouped.TIPOURGENCIA.unique())\n",
    "print(urgencies_cdmx_grouped.TIPOURGENCIA_V.unique())"
   ]
  },
  {
   "cell_type": "code",
   "execution_count": 263,
   "metadata": {},
   "outputs": [
    {
     "name": "stdout",
     "output_type": "stream",
     "text": [
      "[1. 2. 3. 5. 6. 9. 4. 7.]\n",
      "['ACCIDENTES, ENVENENAMIENTO Y VIOLENCIAS' 'MEDICA' 'QUIRURGICA'\n",
      " 'PEDIATRICA' 'URGENCIA NO CALIFICADA' 'NO ESPECIFICADO'\n",
      " 'GINECO-OBSTETRICA' 'APOYO A SERVICIOS DE MEDICINA GENERAL']\n"
     ]
    }
   ],
   "source": [
    "print(urgencies_cdmx_grouped.MOTATE.unique())\n",
    "print(urgencies_cdmx_grouped.MOTATE_V.unique())"
   ]
  },
  {
   "cell_type": "markdown",
   "metadata": {},
   "source": [
    "---"
   ]
  },
  {
   "cell_type": "code",
   "execution_count": 264,
   "metadata": {},
   "outputs": [
    {
     "data": {
      "text/plain": [
       "CLUES             0\n",
       "TIPOURGENCIA      0\n",
       "MOTATE            0\n",
       "YEAR              0\n",
       "count             0\n",
       "TIPOURGENCIA_V    0\n",
       "MOTATE_V          0\n",
       "dtype: int64"
      ]
     },
     "execution_count": 264,
     "metadata": {},
     "output_type": "execute_result"
    }
   ],
   "source": [
    "empty = urgencies_cdmx_grouped[(urgencies_cdmx_grouped['MOTATE_V'] == '' )]\n",
    "\n",
    "empty.count()"
   ]
  },
  {
   "cell_type": "code",
   "execution_count": 265,
   "metadata": {},
   "outputs": [
    {
     "data": {
      "text/plain": [
       "CLUES             48\n",
       "TIPOURGENCIA      48\n",
       "MOTATE            48\n",
       "YEAR              48\n",
       "count             48\n",
       "TIPOURGENCIA_V    48\n",
       "MOTATE_V          48\n",
       "dtype: int64"
      ]
     },
     "execution_count": 265,
     "metadata": {},
     "output_type": "execute_result"
    }
   ],
   "source": [
    "empty = urgencies_cdmx_grouped[(urgencies_cdmx_grouped['TIPOURGENCIA_V'] == '' )]\n",
    "\n",
    "empty.count()"
   ]
  },
  {
   "cell_type": "code",
   "execution_count": 266,
   "metadata": {},
   "outputs": [],
   "source": [
    "output_file = 'data_output/urgencies_by_date_cat.csv'\n",
    "\n",
    "urgencies_cdmx_grouped.to_csv(output_file, encoding='utf-8', index=False)"
   ]
  },
  {
   "cell_type": "code",
   "execution_count": null,
   "metadata": {},
   "outputs": [],
   "source": []
  }
 ],
 "metadata": {
  "kernelspec": {
   "display_name": "Python 3",
   "language": "python",
   "name": "python3"
  },
  "language_info": {
   "codemirror_mode": {
    "name": "ipython",
    "version": 3
   },
   "file_extension": ".py",
   "mimetype": "text/x-python",
   "name": "python",
   "nbconvert_exporter": "python",
   "pygments_lexer": "ipython3",
   "version": "3.6.6"
  }
 },
 "nbformat": 4,
 "nbformat_minor": 2
}
