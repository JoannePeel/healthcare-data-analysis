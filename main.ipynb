{
 "cells": [
  {
   "cell_type": "markdown",
   "metadata": {},
   "source": [
    "## Declaraciones"
   ]
  },
  {
   "cell_type": "code",
   "execution_count": null,
   "metadata": {},
   "outputs": [],
   "source": [
    "# import\n",
    "import pandas as pd"
   ]
  },
  {
   "cell_type": "markdown",
   "metadata": {},
   "source": [
    "# Joanne"
   ]
  },
  {
   "cell_type": "code",
   "execution_count": null,
   "metadata": {},
   "outputs": [],
   "source": []
  },
  {
   "cell_type": "code",
   "execution_count": null,
   "metadata": {},
   "outputs": [],
   "source": []
  },
  {
   "cell_type": "code",
   "execution_count": null,
   "metadata": {},
   "outputs": [],
   "source": []
  },
  {
   "cell_type": "code",
   "execution_count": null,
   "metadata": {},
   "outputs": [],
   "source": []
  },
  {
   "cell_type": "code",
   "execution_count": null,
   "metadata": {},
   "outputs": [],
   "source": []
  },
  {
   "cell_type": "code",
   "execution_count": null,
   "metadata": {},
   "outputs": [],
   "source": []
  },
  {
   "cell_type": "markdown",
   "metadata": {},
   "source": [
    "---"
   ]
  },
  {
   "cell_type": "markdown",
   "metadata": {},
   "source": [
    "# Daniel"
   ]
  },
  {
   "cell_type": "code",
   "execution_count": null,
   "metadata": {},
   "outputs": [],
   "source": []
  },
  {
   "cell_type": "code",
   "execution_count": null,
   "metadata": {},
   "outputs": [],
   "source": []
  },
  {
   "cell_type": "code",
   "execution_count": null,
   "metadata": {},
   "outputs": [],
   "source": []
  },
  {
   "cell_type": "markdown",
   "metadata": {},
   "source": [
    "---"
   ]
  },
  {
   "cell_type": "markdown",
   "metadata": {},
   "source": [
    "# Joel"
   ]
  },
  {
   "cell_type": "code",
   "execution_count": 3,
   "metadata": {},
   "outputs": [],
   "source": [
    "\n",
    "\n",
    "\n",
    "years = ['2009','2010','2011','2012','2013','2014','2015','2016']\n",
    "\n",
    "years = ['2013','2014','2015','2016']\n",
    "\n",
    "years = ['2015','2016']\n",
    "\n",
    "\n"
   ]
  },
  {
   "cell_type": "code",
   "execution_count": 4,
   "metadata": {},
   "outputs": [
    {
     "name": "stdout",
     "output_type": "stream",
     "text": [
      "[LOG]: Processing... URGENCIAS_2015.csv\n"
     ]
    },
    {
     "name": "stderr",
     "output_type": "stream",
     "text": [
      "/anaconda3/envs/PythonData/lib/python3.6/site-packages/IPython/core/interactiveshell.py:3020: DtypeWarning: Columns (9) have mixed types. Specify dtype option on import or set low_memory=False.\n",
      "  interactivity=interactivity, compiler=compiler, result=result)\n"
     ]
    },
    {
     "name": "stdout",
     "output_type": "stream",
     "text": [
      "[LOG]: Read: URGENCIAS_2015.csv\n",
      "[LOG]: Processed: URGENCIAS_2015.csv\n",
      "[LOG]: Appended: URGENCIAS_2015.csv\n",
      "[LOG]: Processing... URGENCIAS_2016.csv\n"
     ]
    },
    {
     "name": "stderr",
     "output_type": "stream",
     "text": [
      "/anaconda3/envs/PythonData/lib/python3.6/site-packages/IPython/core/interactiveshell.py:3020: DtypeWarning: Columns (1,7,8,13,16) have mixed types. Specify dtype option on import or set low_memory=False.\n",
      "  interactivity=interactivity, compiler=compiler, result=result)\n"
     ]
    },
    {
     "name": "stdout",
     "output_type": "stream",
     "text": [
      "[LOG]: Read: URGENCIAS_2016.csv\n",
      "[LOG]: Processed: URGENCIAS_2016.csv\n",
      "[LOG]: Appended: URGENCIAS_2016.csv\n"
     ]
    }
   ],
   "source": [
    "#urgencies = pd.DataFrame(columns=['ID','CLUES','MOTATE','TIPOURGENCIA','YEAR'])\n",
    "urgencies = pd.DataFrame(columns=['CLUES','MOTATE','TIPOURGENCIA','YEAR'])\n",
    "\n",
    "for year in years:\n",
    "    path = f'Datos/Urgencias_{year}/'\n",
    "    file = f'URGENCIAS_{year}.csv'\n",
    "    try:\n",
    "        print(f'[LOG]: Processing... {file}')\n",
    "        \n",
    "        \n",
    "        if year in ['2013','2014']:\n",
    "            urgencies_tmp = pd.read_csv(path+file, sep=\";\", engine='python', header=None, usecols=[2,6])\n",
    "        else:\n",
    "            urgencies_tmp = pd.read_csv(path+file)\n",
    "        \n",
    "        print(f'[LOG]: Read: {file}')\n",
    "        \n",
    "        #urgencies_tmp = urgencies_tmp[['ID','CLUES','MOTATE','TIPOURGENCIA']]\n",
    "        urgencies_tmp = urgencies_tmp[['CLUES','MOTATE','TIPOURGENCIA']]\n",
    "        urgencies_tmp['YEAR'] = year\n",
    "        \n",
    "        print(f'[LOG]: Processed: {file}')\n",
    "        \n",
    "        urgencies = pd.concat([urgencies, urgencies_tmp], ignore_index=True)\n",
    "        \n",
    "        \n",
    "        print(f'[LOG]: Appended: {file}')\n",
    "        \n",
    "        \n",
    "    except:\n",
    "        print(f'[LOG]: Error: {file}')\n",
    "    "
   ]
  },
  {
   "cell_type": "code",
   "execution_count": 8,
   "metadata": {},
   "outputs": [
    {
     "data": {
      "text/html": [
       "<div>\n",
       "<style scoped>\n",
       "    .dataframe tbody tr th:only-of-type {\n",
       "        vertical-align: middle;\n",
       "    }\n",
       "\n",
       "    .dataframe tbody tr th {\n",
       "        vertical-align: top;\n",
       "    }\n",
       "\n",
       "    .dataframe thead th {\n",
       "        text-align: right;\n",
       "    }\n",
       "</style>\n",
       "<table border=\"1\" class=\"dataframe\">\n",
       "  <thead>\n",
       "    <tr style=\"text-align: right;\">\n",
       "      <th></th>\n",
       "      <th>CLUES</th>\n",
       "      <th>MOTATE</th>\n",
       "      <th>TIPOURGENCIA</th>\n",
       "      <th>YEAR</th>\n",
       "    </tr>\n",
       "  </thead>\n",
       "  <tbody>\n",
       "    <tr>\n",
       "      <th>3550</th>\n",
       "      <td>DFSSA017886</td>\n",
       "      <td>2.0</td>\n",
       "      <td>2</td>\n",
       "      <td>2015</td>\n",
       "    </tr>\n",
       "    <tr>\n",
       "      <th>3551</th>\n",
       "      <td>DFSSA017886</td>\n",
       "      <td>2.0</td>\n",
       "      <td>2</td>\n",
       "      <td>2015</td>\n",
       "    </tr>\n",
       "    <tr>\n",
       "      <th>3552</th>\n",
       "      <td>DFSSA017886</td>\n",
       "      <td>2.0</td>\n",
       "      <td>1</td>\n",
       "      <td>2015</td>\n",
       "    </tr>\n",
       "    <tr>\n",
       "      <th>3553</th>\n",
       "      <td>DFSSA017886</td>\n",
       "      <td>2.0</td>\n",
       "      <td>2</td>\n",
       "      <td>2015</td>\n",
       "    </tr>\n",
       "    <tr>\n",
       "      <th>3554</th>\n",
       "      <td>DFSSA017886</td>\n",
       "      <td>2.0</td>\n",
       "      <td>2</td>\n",
       "      <td>2015</td>\n",
       "    </tr>\n",
       "  </tbody>\n",
       "</table>\n",
       "</div>"
      ],
      "text/plain": [
       "            CLUES  MOTATE TIPOURGENCIA  YEAR\n",
       "3550  DFSSA017886     2.0            2  2015\n",
       "3551  DFSSA017886     2.0            2  2015\n",
       "3552  DFSSA017886     2.0            1  2015\n",
       "3553  DFSSA017886     2.0            2  2015\n",
       "3554  DFSSA017886     2.0            2  2015"
      ]
     },
     "execution_count": 8,
     "metadata": {},
     "output_type": "execute_result"
    }
   ],
   "source": [
    "#\n",
    "\n",
    "urgencies_cdmx = urgencies[(urgencies['CLUES'].str.contains(\"DF\"))]\n",
    "\n",
    "#urgencies.head()\n",
    "#urgencies_agg = urgencies.groupby(['CLUES','MOTATE','TIPOURGENCIA','YEAR']).count()[['CLUES']]\n",
    "\n",
    "urgencies_cdmx.groupby(['CLUES','MOTATE','TIPOURGENCIA','YEAR']).CLUES.agg('count').to_frame('Count').reset_index()\n",
    "\n",
    "urgencies_cdmx.head()"
   ]
  },
  {
   "cell_type": "markdown",
   "metadata": {},
   "source": [
    "---"
   ]
  },
  {
   "cell_type": "code",
   "execution_count": 2,
   "metadata": {},
   "outputs": [
    {
     "ename": "NameError",
     "evalue": "name 'urgencies' is not defined",
     "output_type": "error",
     "traceback": [
      "\u001b[0;31m---------------------------------------------------------------------------\u001b[0m",
      "\u001b[0;31mNameError\u001b[0m                                 Traceback (most recent call last)",
      "\u001b[0;32m<ipython-input-2-73743b1812cb>\u001b[0m in \u001b[0;36m<module>\u001b[0;34m\u001b[0m\n\u001b[0;32m----> 1\u001b[0;31m \u001b[0murgencies\u001b[0m\u001b[0;34m[\u001b[0m\u001b[0;34m'year'\u001b[0m\u001b[0;34m]\u001b[0m \u001b[0;34m=\u001b[0m \u001b[0;34m'2015'\u001b[0m\u001b[0;34m\u001b[0m\u001b[0m\n\u001b[0m\u001b[1;32m      2\u001b[0m \u001b[0;34m\u001b[0m\u001b[0m\n",
      "\u001b[0;31mNameError\u001b[0m: name 'urgencies' is not defined"
     ]
    }
   ],
   "source": [
    "urgencies['year'] = '2015'\n",
    "    "
   ]
  },
  {
   "cell_type": "code",
   "execution_count": 9,
   "metadata": {},
   "outputs": [
    {
     "name": "stdout",
     "output_type": "stream",
     "text": [
      "[LOG]: Processing... URGENCIAS_2014.csv\n"
     ]
    }
   ],
   "source": [
    "#urgencies = pd.DataFrame(columns=['ID','CLUES','MOTATE','TIPOURGENCIA','YEAR'])\n",
    "urgencies = pd.DataFrame(columns=['CLUES','MOTATE','TIPOURGENCIA','YEAR'])\n",
    "\n",
    "year = '2014'\n",
    "\n",
    "\n",
    "path = f'Datos/Urgencias_{year}/'\n",
    "file = f'URGENCIAS_{year}.csv'\n",
    "\n",
    "print(f'[LOG]: Processing... {file}')\n",
    "\n",
    "\n",
    "#if year in ['2013','2014']:\n",
    "#    urgencies_tmp = pd.read_csv(path+file, sep=\";\", engine='python', header=None, usecols=[1,10,11], names=['colA', 'colB','colC'])\n",
    "#    print('hola')\n",
    "\n",
    "\n",
    "\n",
    "\n",
    "    "
   ]
  },
  {
   "cell_type": "code",
   "execution_count": 10,
   "metadata": {},
   "outputs": [
    {
     "data": {
      "text/html": [
       "<div>\n",
       "<style scoped>\n",
       "    .dataframe tbody tr th:only-of-type {\n",
       "        vertical-align: middle;\n",
       "    }\n",
       "\n",
       "    .dataframe tbody tr th {\n",
       "        vertical-align: top;\n",
       "    }\n",
       "\n",
       "    .dataframe thead th {\n",
       "        text-align: right;\n",
       "    }\n",
       "</style>\n",
       "<table border=\"1\" class=\"dataframe\">\n",
       "  <thead>\n",
       "    <tr style=\"text-align: right;\">\n",
       "      <th></th>\n",
       "      <th>CLUES</th>\n",
       "      <th>MOTATE</th>\n",
       "      <th>TIPOURGENCIA</th>\n",
       "      <th>YEAR</th>\n",
       "    </tr>\n",
       "  </thead>\n",
       "  <tbody>\n",
       "    <tr>\n",
       "      <th>0</th>\n",
       "      <td>ASSSA000025</td>\n",
       "      <td>1.0</td>\n",
       "      <td>2</td>\n",
       "      <td>2016</td>\n",
       "    </tr>\n",
       "    <tr>\n",
       "      <th>1</th>\n",
       "      <td>ASSSA000025</td>\n",
       "      <td>4.0</td>\n",
       "      <td>2</td>\n",
       "      <td>2016</td>\n",
       "    </tr>\n",
       "    <tr>\n",
       "      <th>2</th>\n",
       "      <td>ASSSA000025</td>\n",
       "      <td>4.0</td>\n",
       "      <td>1</td>\n",
       "      <td>2016</td>\n",
       "    </tr>\n",
       "    <tr>\n",
       "      <th>3</th>\n",
       "      <td>ASSSA000025</td>\n",
       "      <td>1.0</td>\n",
       "      <td>2</td>\n",
       "      <td>2016</td>\n",
       "    </tr>\n",
       "    <tr>\n",
       "      <th>4</th>\n",
       "      <td>ASSSA000025</td>\n",
       "      <td>4.0</td>\n",
       "      <td>2</td>\n",
       "      <td>2016</td>\n",
       "    </tr>\n",
       "  </tbody>\n",
       "</table>\n",
       "</div>"
      ],
      "text/plain": [
       "         CLUES  MOTATE  TIPOURGENCIA  YEAR\n",
       "0  ASSSA000025     1.0             2  2016\n",
       "1  ASSSA000025     4.0             2  2016\n",
       "2  ASSSA000025     4.0             1  2016\n",
       "3  ASSSA000025     1.0             2  2016\n",
       "4  ASSSA000025     4.0             2  2016"
      ]
     },
     "execution_count": 10,
     "metadata": {},
     "output_type": "execute_result"
    }
   ],
   "source": [
    "urgencies_tmp.head()"
   ]
  },
  {
   "cell_type": "code",
   "execution_count": 12,
   "metadata": {},
   "outputs": [
    {
     "data": {
      "text/plain": [
       "CLUES           10554908\n",
       "MOTATE          10183961\n",
       "TIPOURGENCIA    10554908\n",
       "YEAR            10554908\n",
       "dtype: int64"
      ]
     },
     "execution_count": 12,
     "metadata": {},
     "output_type": "execute_result"
    }
   ],
   "source": [
    "urgencies_tmp.count()"
   ]
  },
  {
   "cell_type": "markdown",
   "metadata": {},
   "source": [
    "---"
   ]
  },
  {
   "cell_type": "code",
   "execution_count": null,
   "metadata": {},
   "outputs": [],
   "source": []
  }
 ],
 "metadata": {
  "kernelspec": {
   "display_name": "Python 3",
   "language": "python",
   "name": "python3"
  },
  "language_info": {
   "codemirror_mode": {
    "name": "ipython",
    "version": 3
   },
   "file_extension": ".py",
   "mimetype": "text/x-python",
   "name": "python",
   "nbconvert_exporter": "python",
   "pygments_lexer": "ipython3",
   "version": "3.6.6"
  }
 },
 "nbformat": 4,
 "nbformat_minor": 2
}
