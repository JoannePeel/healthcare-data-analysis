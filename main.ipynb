{
 "cells": [
  {
   "cell_type": "markdown",
   "metadata": {},
   "source": [
    "## Declaraciones"
   ]
  },
  {
   "cell_type": "code",
   "execution_count": 2,
   "metadata": {},
   "outputs": [],
   "source": [
    "# import\n",
    "import pandas as pd\n",
    "import numpy as np"
   ]
  },
  {
   "cell_type": "markdown",
   "metadata": {},
   "source": [
    "# Joanne"
   ]
  },
  {
   "cell_type": "code",
   "execution_count": null,
   "metadata": {},
   "outputs": [],
   "source": []
  },
  {
   "cell_type": "code",
   "execution_count": null,
   "metadata": {},
   "outputs": [],
   "source": []
  },
  {
   "cell_type": "code",
   "execution_count": null,
   "metadata": {},
   "outputs": [],
   "source": []
  },
  {
   "cell_type": "code",
   "execution_count": null,
   "metadata": {},
   "outputs": [],
   "source": []
  },
  {
   "cell_type": "code",
   "execution_count": null,
   "metadata": {},
   "outputs": [],
   "source": []
  },
  {
   "cell_type": "code",
   "execution_count": null,
   "metadata": {},
   "outputs": [],
   "source": []
  },
  {
   "cell_type": "markdown",
   "metadata": {},
   "source": [
    "---"
   ]
  },
  {
   "cell_type": "markdown",
   "metadata": {},
   "source": [
    "# Daniel"
   ]
  },
  {
   "cell_type": "code",
   "execution_count": null,
   "metadata": {},
   "outputs": [],
   "source": []
  },
  {
   "cell_type": "code",
   "execution_count": null,
   "metadata": {},
   "outputs": [],
   "source": []
  },
  {
   "cell_type": "code",
   "execution_count": null,
   "metadata": {},
   "outputs": [],
   "source": []
  },
  {
   "cell_type": "markdown",
   "metadata": {},
   "source": [
    "---"
   ]
  },
  {
   "cell_type": "markdown",
   "metadata": {},
   "source": [
    "# Joel"
   ]
  },
  {
   "cell_type": "code",
   "execution_count": 4,
   "metadata": {},
   "outputs": [],
   "source": [
    "years = ['2009','2010','2011','2012','2013','2014','2015','2016']\n"
   ]
  },
  {
   "cell_type": "code",
   "execution_count": 5,
   "metadata": {},
   "outputs": [
    {
     "name": "stdout",
     "output_type": "stream",
     "text": [
      "[LOG]: Processing... Datos/Urgencias_2009/URGENCIAS_2009.csv\n",
      "[LOG]: URGENCIAS_2009.csv processed.\n",
      "[LOG]: Selected: URGENCIAS_2009.csv\n",
      "[LOG]: Appended: URGENCIAS_2009.csv\n",
      "[LOG]: Processing... Datos/Urgencias_2010/URGENCIAS_2010.csv\n",
      "[LOG]: URGENCIAS_2010.csv processed.\n",
      "[LOG]: Selected: URGENCIAS_2010.csv\n",
      "[LOG]: Appended: URGENCIAS_2010.csv\n",
      "[LOG]: Processing... Datos/Urgencias_2011/URGENCIAS_2011.csv\n",
      "[LOG]: URGENCIAS_2011.csv processed.\n",
      "[LOG]: Selected: URGENCIAS_2011.csv\n",
      "[LOG]: Appended: URGENCIAS_2011.csv\n",
      "[LOG]: Processing... Datos/Urgencias_2012/URGENCIAS_2012.csv\n",
      "[LOG]: URGENCIAS_2012.csv processed.\n",
      "[LOG]: Selected: URGENCIAS_2012.csv\n",
      "[LOG]: Appended: URGENCIAS_2012.csv\n",
      "[LOG]: Processing... Datos/Urgencias_2013/URGENCIAS_2013.csv\n",
      "[LOG]: URGENCIAS_2013.csv processed.\n",
      "[LOG]: Selected: URGENCIAS_2013.csv\n",
      "[LOG]: Appended: URGENCIAS_2013.csv\n",
      "[LOG]: Processing... Datos/Urgencias_2014/URGENCIAS_2014.csv\n",
      "[LOG]: URGENCIAS_2014.csv processed.\n",
      "[LOG]: Selected: URGENCIAS_2014.csv\n",
      "[LOG]: Appended: URGENCIAS_2014.csv\n",
      "[LOG]: Processing... Datos/Urgencias_2015/URGENCIAS_2015.csv\n",
      "[LOG]: URGENCIAS_2015.csv processed.\n",
      "[LOG]: Selected: URGENCIAS_2015.csv\n",
      "[LOG]: Appended: URGENCIAS_2015.csv\n",
      "[LOG]: Processing... Datos/Urgencias_2016/URGENCIAS_2016.csv\n",
      "[LOG]: URGENCIAS_2016.csv processed.\n",
      "[LOG]: Selected: URGENCIAS_2016.csv\n",
      "[LOG]: Appended: URGENCIAS_2016.csv\n"
     ]
    }
   ],
   "source": [
    "#urgencies = pd.DataFrame(columns=['ID','CLUES','MOTATE','TIPOURGENCIA','YEAR'])\n",
    "urgencies = pd.DataFrame(columns=['CLUES','MOTATE','TIPOURGENCIA','YEAR','tmp_trail'])\n",
    "\n",
    "for year in years:\n",
    "    path = f'Datos/Urgencias_{year}/'\n",
    "    file = f'URGENCIAS_{year}.csv'\n",
    "    try:\n",
    "        \n",
    "        if year in ['2009']:\n",
    "            print(f'[LOG]: Processing... {path+file}')\n",
    "            urgencies_tmp = pd.read_csv(path+file, sep=\";\", header=None, names=['ID','CLUES','FOLIO','FECHAALTA',\n",
    "                    'EDAD','CVEEDAD','SEXO',\n",
    "                    'MUNRESIDENCIA','DERHAB','TIPOURGENCIA', 'MOTATE',\n",
    "                    #'TIPOCAMA','ENVIADOA','MP',\n",
    "                    'AFECPRIN','IRA','PLANEDA','SOBRESEDA',\n",
    "                    'FECHAINGRESO','HORASESTANCIA','MES_ESTADISTICO',\n",
    "                    'HORAINIATE','MININIATE','HORATERATE','MINTERATE'],\n",
    "                    dtype={'ID': object,'CLUES': object,'FOLIO': object,'FECHAALTA': object,\n",
    "                    'EDAD': np.float64,'CVEEDAD': object,'SEXO': object,\n",
    "                    'MUNRESIDENCIA': object,'DERHAB': object,'TIPOURGENCIA': np.float64, 'MOTATE': np.float64,\n",
    "                    #'TIPOCAMA': np.float64,'ENVIADOA': object,'MP': object,\n",
    "                    'AFECPRIN': object,'IRA': object,'PLANEDA': object,'SOBRESEDA': object,\n",
    "                    'FECHAINGRESO': object,'HORASESTANCIA': object,'MES_ESTADISTICO': object,\n",
    "                    'HORAINIATE': object,'MININIATE': object,'HORATERATE': object,'MINTERATE': object})\n",
    "            print(f'[LOG]: {file} processed.')\n",
    "        elif year in ['2010','2011']:\n",
    "            print(f'[LOG]: Processing... {path+file}')\n",
    "            urgencies_tmp = pd.read_csv(path+file, sep=\";\", header=None, names=['ID','CLUES','FOLIO','FECHAALTA',\n",
    "                    'EDAD','CVEEDAD','SEXO',\n",
    "                    'MUNRESIDENCIA','DERHAB','TIPOURGENCIA',\n",
    "                    'MOTATE','TIPOCAMA','ENVIADOA','MP',\n",
    "                    'AFECPRIN','IRA','PLANEDA','SOBRESEDA',\n",
    "                    'FECHAINGRESO','HORASESTANCIA','MES_ESTADISTICO',\n",
    "                    'HORAINIATE','MININIATE','HORATERATE','MINTERATE'],\n",
    "                    dtype={'ID': object,'CLUES': object,'FOLIO': object,'FECHAALTA': object,\n",
    "                    'EDAD': np.float64,'CVEEDAD': object,'SEXO': object,\n",
    "                    'MUNRESIDENCIA': object,'DERHAB': object,'TIPOURGENCIA': np.float64,\n",
    "                    'MOTATE': np.float64,'TIPOCAMA': np.float64,'ENVIADOA': object,'MP': object,\n",
    "                    'AFECPRIN': object,'IRA': object,'PLANEDA': object,'SOBRESEDA': object,\n",
    "                    'FECHAINGRESO': object,'HORASESTANCIA': np.int32,'MES_ESTADISTICO': np.int32,\n",
    "                    'HORAINIATE': np.int32,'MININIATE': np.int32,'HORATERATE': np.int32,'MINTERATE': np.int32})\n",
    "            print(f'[LOG]: {file} processed.')\n",
    "        elif year in ['2012','2013','2014']:\n",
    "            print(f'[LOG]: Processing... {path+file}')\n",
    "            urgencies_tmp = pd.read_csv(path+file, sep=\";\", header=None, names=['ID','CLUES','FOLIO','FECHAALTA',\n",
    "                    'EDAD','CVEEDAD','SEXO','ENTRESIDENCIA',\n",
    "                    'MUNRESIDENCIA','DERHAB','TIPOURGENCIA',\n",
    "                    'MOTATE','TIPOCAMA','ENVIADOA','MP',\n",
    "                    'AFECPRIN','IRA','PLANEDA','SOBRESEDA',\n",
    "                    'FECHAINGRESO','HORASESTANCIA','MES_ESTADISTICO',\n",
    "                    'HORAINIATE','MININIATE','HORATERATE','MINTERATE'],\n",
    "                    dtype={'ID': object,'CLUES': object,'FOLIO': object,'FECHAALTA': object,\n",
    "                    'EDAD': object,'CVEEDAD': object,'SEXO': object,'ENTRESIDENCIA': object,\n",
    "                    'MUNRESIDENCIA': object,'DERHAB': object,'TIPOURGENCIA': np.float64,\n",
    "                    'MOTATE': np.float64,'TIPOCAMA': object,'ENVIADOA': object,'MP': object,\n",
    "                    'AFECPRIN': object,'IRA': object,'PLANEDA': object,'SOBRESEDA': object,\n",
    "                    'FECHAINGRESO': object,'HORASESTANCIA': object,'MES_ESTADISTICO': object,\n",
    "                    'HORAINIATE': object,'MININIATE': object,'HORATERATE': object,'MINTERATE': object})\n",
    "            print(f'[LOG]: {file} processed.')\n",
    "        else:\n",
    "            print(f'[LOG]: Processing... {path+file}')\n",
    "            urgencies_tmp = pd.read_csv(path+file,\n",
    "                    dtype={'ID': object,'CLUES': object,'FOLIO': object,'FECHAALTA': object,\n",
    "                    'EDAD': object,'CVEEDAD': object,'SEXO': object,'ENTRESIDENCIA': object,\n",
    "                    'MUNRESIDENCIA': object,'DERHAB': object,'TIPOURGENCIA': np.float64,\n",
    "                    'MOTATE': np.float64,'TIPOCAMA': object,'ENVIADOA': object,'MP': object,\n",
    "                    'AFECPRIN': object,'IRA': object,'PLANEDA': object,'SOBRESEDA': object,\n",
    "                    'FECHAINGRESO': object,'HORASESTANCIA': object,'MES_ESTADISTICO': object,\n",
    "                    'HORAINIATE': object,'MININIATE': object,'HORATERATE': object,'MINTERATE': object})\n",
    "            print(f'[LOG]: {file} processed.')\n",
    "        \n",
    "\n",
    "        \n",
    "        #urgencies_tmp = urgencies_tmp[['ID','CLUES','MOTATE','TIPOURGENCIA']]\n",
    "        urgencies_tmp = urgencies_tmp[['CLUES','MOTATE','TIPOURGENCIA']]\n",
    "        urgencies_tmp['YEAR'] = year\n",
    "        urgencies_tmp['tmp_trail'] = 1\n",
    "        \n",
    "        print(f'[LOG]: Selected: {file}')\n",
    "        \n",
    "        urgencies = pd.concat([urgencies, urgencies_tmp], ignore_index=True)\n",
    "        \n",
    "        \n",
    "        print(f'[LOG]: Appended: {file}')\n",
    "        \n",
    "        \n",
    "    except:\n",
    "        print(f'[LOG]: Error: {file}')\n",
    "    "
   ]
  },
  {
   "cell_type": "code",
   "execution_count": null,
   "metadata": {},
   "outputs": [],
   "source": [
    "urgencies"
   ]
  },
  {
   "cell_type": "code",
   "execution_count": 6,
   "metadata": {},
   "outputs": [
    {
     "data": {
      "text/html": [
       "<div>\n",
       "<style scoped>\n",
       "    .dataframe tbody tr th:only-of-type {\n",
       "        vertical-align: middle;\n",
       "    }\n",
       "\n",
       "    .dataframe tbody tr th {\n",
       "        vertical-align: top;\n",
       "    }\n",
       "\n",
       "    .dataframe thead th {\n",
       "        text-align: right;\n",
       "    }\n",
       "</style>\n",
       "<table border=\"1\" class=\"dataframe\">\n",
       "  <thead>\n",
       "    <tr style=\"text-align: right;\">\n",
       "      <th></th>\n",
       "      <th>CLUES</th>\n",
       "      <th>MOTATE</th>\n",
       "      <th>TIPOURGENCIA</th>\n",
       "      <th>YEAR</th>\n",
       "      <th>tmp_trail</th>\n",
       "    </tr>\n",
       "  </thead>\n",
       "  <tbody>\n",
       "    <tr>\n",
       "      <th>0</th>\n",
       "      <td>CCSSA000100</td>\n",
       "      <td>4.0</td>\n",
       "      <td>3.0</td>\n",
       "      <td>2009</td>\n",
       "      <td>1</td>\n",
       "    </tr>\n",
       "    <tr>\n",
       "      <th>1</th>\n",
       "      <td>CCSSA000100</td>\n",
       "      <td>4.0</td>\n",
       "      <td>3.0</td>\n",
       "      <td>2009</td>\n",
       "      <td>1</td>\n",
       "    </tr>\n",
       "    <tr>\n",
       "      <th>2</th>\n",
       "      <td>CCSSA000100</td>\n",
       "      <td>4.0</td>\n",
       "      <td>3.0</td>\n",
       "      <td>2009</td>\n",
       "      <td>1</td>\n",
       "    </tr>\n",
       "    <tr>\n",
       "      <th>3</th>\n",
       "      <td>CCSSA000100</td>\n",
       "      <td>4.0</td>\n",
       "      <td>3.0</td>\n",
       "      <td>2009</td>\n",
       "      <td>1</td>\n",
       "    </tr>\n",
       "    <tr>\n",
       "      <th>4</th>\n",
       "      <td>CCSSA000100</td>\n",
       "      <td>1.0</td>\n",
       "      <td>1.0</td>\n",
       "      <td>2009</td>\n",
       "      <td>1</td>\n",
       "    </tr>\n",
       "  </tbody>\n",
       "</table>\n",
       "</div>"
      ],
      "text/plain": [
       "         CLUES  MOTATE  TIPOURGENCIA  YEAR tmp_trail\n",
       "0  CCSSA000100     4.0           3.0  2009         1\n",
       "1  CCSSA000100     4.0           3.0  2009         1\n",
       "2  CCSSA000100     4.0           3.0  2009         1\n",
       "3  CCSSA000100     4.0           3.0  2009         1\n",
       "4  CCSSA000100     1.0           1.0  2009         1"
      ]
     },
     "execution_count": 6,
     "metadata": {},
     "output_type": "execute_result"
    }
   ],
   "source": [
    "urgencies.head()"
   ]
  },
  {
   "cell_type": "code",
   "execution_count": 7,
   "metadata": {},
   "outputs": [
    {
     "data": {
      "text/plain": [
       "CLUES           75412116\n",
       "MOTATE          72899234\n",
       "TIPOURGENCIA    75412116\n",
       "YEAR            75412116\n",
       "tmp_trail       75412116\n",
       "dtype: int64"
      ]
     },
     "execution_count": 7,
     "metadata": {},
     "output_type": "execute_result"
    }
   ],
   "source": [
    "urgencies.count()"
   ]
  },
  {
   "cell_type": "code",
   "execution_count": 8,
   "metadata": {},
   "outputs": [
    {
     "data": {
      "text/plain": [
       "CLUES           7017663\n",
       "MOTATE          6934208\n",
       "TIPOURGENCIA    7017663\n",
       "YEAR            7017663\n",
       "tmp_trail       7017663\n",
       "dtype: int64"
      ]
     },
     "execution_count": 8,
     "metadata": {},
     "output_type": "execute_result"
    }
   ],
   "source": [
    "urgencies_cdmx = urgencies[(urgencies['CLUES'].str.contains(\"DF\"))]\n",
    "\n",
    "urgencies_cdmx.count()"
   ]
  },
  {
   "cell_type": "code",
   "execution_count": 9,
   "metadata": {},
   "outputs": [
    {
     "data": {
      "text/html": [
       "<div>\n",
       "<style scoped>\n",
       "    .dataframe tbody tr th:only-of-type {\n",
       "        vertical-align: middle;\n",
       "    }\n",
       "\n",
       "    .dataframe tbody tr th {\n",
       "        vertical-align: top;\n",
       "    }\n",
       "\n",
       "    .dataframe thead th {\n",
       "        text-align: right;\n",
       "    }\n",
       "</style>\n",
       "<table border=\"1\" class=\"dataframe\">\n",
       "  <thead>\n",
       "    <tr style=\"text-align: right;\">\n",
       "      <th></th>\n",
       "      <th>CLUES</th>\n",
       "      <th>MOTATE</th>\n",
       "      <th>TIPOURGENCIA</th>\n",
       "      <th>YEAR</th>\n",
       "      <th>count</th>\n",
       "    </tr>\n",
       "  </thead>\n",
       "  <tbody>\n",
       "    <tr>\n",
       "      <th>0</th>\n",
       "      <td>DFSSA000053</td>\n",
       "      <td>1.0</td>\n",
       "      <td>1.0</td>\n",
       "      <td>2009</td>\n",
       "      <td>3</td>\n",
       "    </tr>\n",
       "    <tr>\n",
       "      <th>1</th>\n",
       "      <td>DFSSA000053</td>\n",
       "      <td>1.0</td>\n",
       "      <td>1.0</td>\n",
       "      <td>2010</td>\n",
       "      <td>1579</td>\n",
       "    </tr>\n",
       "    <tr>\n",
       "      <th>2</th>\n",
       "      <td>DFSSA000053</td>\n",
       "      <td>1.0</td>\n",
       "      <td>1.0</td>\n",
       "      <td>2011</td>\n",
       "      <td>1492</td>\n",
       "    </tr>\n",
       "    <tr>\n",
       "      <th>3</th>\n",
       "      <td>DFSSA000053</td>\n",
       "      <td>1.0</td>\n",
       "      <td>1.0</td>\n",
       "      <td>2012</td>\n",
       "      <td>1111</td>\n",
       "    </tr>\n",
       "    <tr>\n",
       "      <th>4</th>\n",
       "      <td>DFSSA000053</td>\n",
       "      <td>1.0</td>\n",
       "      <td>1.0</td>\n",
       "      <td>2013</td>\n",
       "      <td>1255</td>\n",
       "    </tr>\n",
       "  </tbody>\n",
       "</table>\n",
       "</div>"
      ],
      "text/plain": [
       "         CLUES  MOTATE  TIPOURGENCIA  YEAR  count\n",
       "0  DFSSA000053     1.0           1.0  2009      3\n",
       "1  DFSSA000053     1.0           1.0  2010   1579\n",
       "2  DFSSA000053     1.0           1.0  2011   1492\n",
       "3  DFSSA000053     1.0           1.0  2012   1111\n",
       "4  DFSSA000053     1.0           1.0  2013   1255"
      ]
     },
     "execution_count": 9,
     "metadata": {},
     "output_type": "execute_result"
    }
   ],
   "source": [
    "\n",
    "#urgencies_agg = urgencies.groupby(['CLUES','MOTATE','TIPOURGENCIA','YEAR']).count()[['CLUES']]\n",
    "\n",
    "#urgencies_cdmx.groupby(['CLUES','MOTATE','TIPOURGENCIA','YEAR']).CLUES.agg('count').to_frame('Count').reset_index()\n",
    "\n",
    "urgencies_cdmx = urgencies_cdmx.groupby(['CLUES','MOTATE','TIPOURGENCIA','YEAR'])[\"tmp_trail\"].count().reset_index(name=\"count\")\n",
    "\n",
    "urgencies_cdmx.head()"
   ]
  },
  {
   "cell_type": "code",
   "execution_count": 10,
   "metadata": {},
   "outputs": [
    {
     "data": {
      "text/plain": [
       "CLUES           2463\n",
       "MOTATE          2463\n",
       "TIPOURGENCIA    2463\n",
       "YEAR            2463\n",
       "count           2463\n",
       "dtype: int64"
      ]
     },
     "execution_count": 10,
     "metadata": {},
     "output_type": "execute_result"
    }
   ],
   "source": [
    "urgencies_cdmx.count()"
   ]
  },
  {
   "cell_type": "code",
   "execution_count": 11,
   "metadata": {},
   "outputs": [],
   "source": [
    "output_file = 'data_output/urgencies_by_date.csv'\n",
    "\n",
    "urgencies_cdmx.to_csv(output_file, encoding='utf-8')"
   ]
  },
  {
   "cell_type": "markdown",
   "metadata": {},
   "source": [
    "---"
   ]
  },
  {
   "cell_type": "markdown",
   "metadata": {},
   "source": [
    "---"
   ]
  },
  {
   "cell_type": "code",
   "execution_count": null,
   "metadata": {},
   "outputs": [],
   "source": []
  },
  {
   "cell_type": "code",
   "execution_count": null,
   "metadata": {},
   "outputs": [],
   "source": []
  }
 ],
 "metadata": {
  "kernelspec": {
   "display_name": "Python 3",
   "language": "python",
   "name": "python3"
  },
  "language_info": {
   "codemirror_mode": {
    "name": "ipython",
    "version": 3
   },
   "file_extension": ".py",
   "mimetype": "text/x-python",
   "name": "python",
   "nbconvert_exporter": "python",
   "pygments_lexer": "ipython3",
   "version": "3.6.6"
  }
 },
 "nbformat": 4,
 "nbformat_minor": 2
}
