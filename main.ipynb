{
 "cells": [
  {
   "cell_type": "markdown",
   "metadata": {},
   "source": [
    "## Declaraciones"
   ]
  },
  {
   "cell_type": "code",
   "execution_count": 211,
   "metadata": {},
   "outputs": [],
   "source": [
    "# import\n",
    "%matplotlib inline\n",
    "import matplotlib.pyplot as plt\n",
    "import pandas as pd\n",
    "import numpy as np"
   ]
  },
  {
   "cell_type": "markdown",
   "metadata": {},
   "source": [
    "# Joanne"
   ]
  },
  {
   "cell_type": "markdown",
   "metadata": {},
   "source": [
    "##  Data Cleaning "
   ]
  },
  {
   "cell_type": "code",
   "execution_count": 212,
   "metadata": {},
   "outputs": [],
   "source": [
    "hospital_data_to_load = \"data_input/hospitals.csv\"\n",
    "hospitals = pd.read_csv(hospital_data_to_load, encoding='latin-1')"
   ]
  },
  {
   "cell_type": "code",
   "execution_count": 213,
   "metadata": {},
   "outputs": [],
   "source": [
    "hospitals_cdmx1 = hospitals.loc[(hospitals[\"NOMBRE DE LA ENTIDAD\"] == \"CIUDAD DE MEXICO\")]"
   ]
  },
  {
   "cell_type": "code",
   "execution_count": 214,
   "metadata": {},
   "outputs": [],
   "source": [
    "hospitals_cdmx = hospitals_cdmx1.loc[(hospitals_cdmx1[\"NOMBRE TIPO ESTABLECIMIENTO\"] == \"DE HOSPITALIZACIÓN\")]"
   ]
  },
  {
   "cell_type": "code",
   "execution_count": 215,
   "metadata": {},
   "outputs": [
    {
     "data": {
      "text/html": [
       "<div>\n",
       "<style scoped>\n",
       "    .dataframe tbody tr th:only-of-type {\n",
       "        vertical-align: middle;\n",
       "    }\n",
       "\n",
       "    .dataframe tbody tr th {\n",
       "        vertical-align: top;\n",
       "    }\n",
       "\n",
       "    .dataframe thead th {\n",
       "        text-align: right;\n",
       "    }\n",
       "</style>\n",
       "<table border=\"1\" class=\"dataframe\">\n",
       "  <thead>\n",
       "    <tr style=\"text-align: right;\">\n",
       "      <th></th>\n",
       "      <th>CLUES</th>\n",
       "      <th>NOMBRE DE LA ENTIDAD</th>\n",
       "      <th>NOMBRE DEL MUNICIPIO</th>\n",
       "      <th>NOMBRE DE LA LOCALIDAD</th>\n",
       "      <th>NOMBRE DE LA JURISDICCION</th>\n",
       "      <th>CLAVE DE LA INSTITUCION</th>\n",
       "      <th>NOMBRE DE TIPOLOGIA</th>\n",
       "      <th>CONSULTORIOS DE MED GRAL</th>\n",
       "      <th>CONSULTORIOS EN OTRAS AREAS</th>\n",
       "      <th>TOTAL DE CONSULTORIOS</th>\n",
       "      <th>CAMAS EN AREA DE HOS</th>\n",
       "      <th>CAMAS EN OTRAS AREAS</th>\n",
       "      <th>TOTAL DE CAMAS</th>\n",
       "      <th>NOMBRE DE LA UNIDAD</th>\n",
       "      <th>OBSERVACIONES DE LA DIRECCION</th>\n",
       "      <th>CODIGO POSTAL</th>\n",
       "      <th>ESTATUS DE OPERACION</th>\n",
       "      <th>LONGITUD</th>\n",
       "      <th>LATITUD</th>\n",
       "      <th>NIVEL ATENCION</th>\n",
       "    </tr>\n",
       "  </thead>\n",
       "  <tbody>\n",
       "    <tr>\n",
       "      <th>6399</th>\n",
       "      <td>DFCRO000011</td>\n",
       "      <td>CIUDAD DE MEXICO</td>\n",
       "      <td>MIGUEL HIDALGO</td>\n",
       "      <td>MIGUEL HIDALGO</td>\n",
       "      <td>MIGUEL HIDALGO</td>\n",
       "      <td>CRO</td>\n",
       "      <td>NO ESPECIFICADO</td>\n",
       "      <td>5</td>\n",
       "      <td>0</td>\n",
       "      <td>5</td>\n",
       "      <td>60</td>\n",
       "      <td>0</td>\n",
       "      <td>60</td>\n",
       "      <td>CENTRO DE TRAUMA DE CRUZ ROJA MEXICANA EN EL D...</td>\n",
       "      <td>AV. EJÉRCITO NACIONAL NO. 1032, COLONIA LOS MO...</td>\n",
       "      <td>11510.0</td>\n",
       "      <td>EN OPERACION</td>\n",
       "      <td>-99.2088913</td>\n",
       "      <td>19.4385309</td>\n",
       "      <td>SEGUNDO NIVEL</td>\n",
       "    </tr>\n",
       "    <tr>\n",
       "      <th>6505</th>\n",
       "      <td>DFIMS000020</td>\n",
       "      <td>CIUDAD DE MEXICO</td>\n",
       "      <td>AZCAPOTZALCO</td>\n",
       "      <td>AZCAPOTZALCO</td>\n",
       "      <td>AZCAPOTZALCO</td>\n",
       "      <td>IMSS</td>\n",
       "      <td>HOSPITAL DE ESPECIALIDADES</td>\n",
       "      <td>75</td>\n",
       "      <td>0</td>\n",
       "      <td>75</td>\n",
       "      <td>465</td>\n",
       "      <td>0</td>\n",
       "      <td>465</td>\n",
       "      <td>HES CM LA RAZA</td>\n",
       "      <td>SERIS Y ZAACHILA  COL. LA RAZA C.P. 02990, AZC...</td>\n",
       "      <td>2990.0</td>\n",
       "      <td>EN OPERACION</td>\n",
       "      <td>-99.1442</td>\n",
       "      <td>19.4662</td>\n",
       "      <td>TERCER NIVEL</td>\n",
       "    </tr>\n",
       "    <tr>\n",
       "      <th>6507</th>\n",
       "      <td>DFIMS000044</td>\n",
       "      <td>CIUDAD DE MEXICO</td>\n",
       "      <td>AZCAPOTZALCO</td>\n",
       "      <td>AZCAPOTZALCO</td>\n",
       "      <td>AZCAPOTZALCO</td>\n",
       "      <td>IMSS</td>\n",
       "      <td>HOSPITAL DE GINECO-OBSTETRICIA</td>\n",
       "      <td>31</td>\n",
       "      <td>0</td>\n",
       "      <td>31</td>\n",
       "      <td>306</td>\n",
       "      <td>0</td>\n",
       "      <td>306</td>\n",
       "      <td>HGO CM LA RAZA</td>\n",
       "      <td>CLZD. VALLEJO ESQ. ANTONIO VALERIANO  COL. LA ...</td>\n",
       "      <td>2990.0</td>\n",
       "      <td>EN OPERACION</td>\n",
       "      <td>-99.1470262</td>\n",
       "      <td>19.4664404</td>\n",
       "      <td>SEGUNDO NIVEL</td>\n",
       "    </tr>\n",
       "    <tr>\n",
       "      <th>6508</th>\n",
       "      <td>DFIMS000056</td>\n",
       "      <td>CIUDAD DE MEXICO</td>\n",
       "      <td>AZCAPOTZALCO</td>\n",
       "      <td>AZCAPOTZALCO</td>\n",
       "      <td>AZCAPOTZALCO</td>\n",
       "      <td>IMSS</td>\n",
       "      <td>HOSPITAL INFECTOLOGÍA</td>\n",
       "      <td>6</td>\n",
       "      <td>0</td>\n",
       "      <td>6</td>\n",
       "      <td>148</td>\n",
       "      <td>0</td>\n",
       "      <td>148</td>\n",
       "      <td>HINFEC CM LA RAZA</td>\n",
       "      <td>ZAACHILA Y JACARANDAS S/N  COL. LA RAZA C.P. 0...</td>\n",
       "      <td>2990.0</td>\n",
       "      <td>EN OPERACION</td>\n",
       "      <td>-99.144716</td>\n",
       "      <td>19.466279</td>\n",
       "      <td>TERCER NIVEL</td>\n",
       "    </tr>\n",
       "    <tr>\n",
       "      <th>6509</th>\n",
       "      <td>DFIMS000061</td>\n",
       "      <td>CIUDAD DE MEXICO</td>\n",
       "      <td>AZCAPOTZALCO</td>\n",
       "      <td>AZCAPOTZALCO</td>\n",
       "      <td>AZCAPOTZALCO</td>\n",
       "      <td>IMSS</td>\n",
       "      <td>HOSPITAL GENERAL</td>\n",
       "      <td>69</td>\n",
       "      <td>0</td>\n",
       "      <td>69</td>\n",
       "      <td>523</td>\n",
       "      <td>0</td>\n",
       "      <td>523</td>\n",
       "      <td>HG CM LA RAZA</td>\n",
       "      <td>CLZD. VALLEJO Y JACARANDAS  COL. LA RAZA C.P. ...</td>\n",
       "      <td>2990.0</td>\n",
       "      <td>EN OPERACION</td>\n",
       "      <td>-99.182</td>\n",
       "      <td>19.486</td>\n",
       "      <td>SEGUNDO NIVEL</td>\n",
       "    </tr>\n",
       "  </tbody>\n",
       "</table>\n",
       "</div>"
      ],
      "text/plain": [
       "            CLUES NOMBRE DE LA ENTIDAD NOMBRE DEL MUNICIPIO  \\\n",
       "6399  DFCRO000011     CIUDAD DE MEXICO       MIGUEL HIDALGO   \n",
       "6505  DFIMS000020     CIUDAD DE MEXICO         AZCAPOTZALCO   \n",
       "6507  DFIMS000044     CIUDAD DE MEXICO         AZCAPOTZALCO   \n",
       "6508  DFIMS000056     CIUDAD DE MEXICO         AZCAPOTZALCO   \n",
       "6509  DFIMS000061     CIUDAD DE MEXICO         AZCAPOTZALCO   \n",
       "\n",
       "     NOMBRE DE LA LOCALIDAD NOMBRE DE LA JURISDICCION CLAVE DE LA INSTITUCION  \\\n",
       "6399         MIGUEL HIDALGO            MIGUEL HIDALGO                     CRO   \n",
       "6505           AZCAPOTZALCO              AZCAPOTZALCO                    IMSS   \n",
       "6507           AZCAPOTZALCO              AZCAPOTZALCO                    IMSS   \n",
       "6508           AZCAPOTZALCO              AZCAPOTZALCO                    IMSS   \n",
       "6509           AZCAPOTZALCO              AZCAPOTZALCO                    IMSS   \n",
       "\n",
       "                 NOMBRE DE TIPOLOGIA  CONSULTORIOS DE MED GRAL  \\\n",
       "6399                 NO ESPECIFICADO                         5   \n",
       "6505      HOSPITAL DE ESPECIALIDADES                        75   \n",
       "6507  HOSPITAL DE GINECO-OBSTETRICIA                        31   \n",
       "6508           HOSPITAL INFECTOLOGÍA                         6   \n",
       "6509                HOSPITAL GENERAL                        69   \n",
       "\n",
       "      CONSULTORIOS EN OTRAS AREAS  TOTAL DE CONSULTORIOS  \\\n",
       "6399                            0                      5   \n",
       "6505                            0                     75   \n",
       "6507                            0                     31   \n",
       "6508                            0                      6   \n",
       "6509                            0                     69   \n",
       "\n",
       "      CAMAS EN AREA DE HOS  CAMAS EN OTRAS AREAS  TOTAL DE CAMAS  \\\n",
       "6399                    60                     0              60   \n",
       "6505                   465                     0             465   \n",
       "6507                   306                     0             306   \n",
       "6508                   148                     0             148   \n",
       "6509                   523                     0             523   \n",
       "\n",
       "                                    NOMBRE DE LA UNIDAD  \\\n",
       "6399  CENTRO DE TRAUMA DE CRUZ ROJA MEXICANA EN EL D...   \n",
       "6505                                     HES CM LA RAZA   \n",
       "6507                                     HGO CM LA RAZA   \n",
       "6508                                  HINFEC CM LA RAZA   \n",
       "6509                                      HG CM LA RAZA   \n",
       "\n",
       "                          OBSERVACIONES DE LA DIRECCION  CODIGO POSTAL  \\\n",
       "6399  AV. EJÉRCITO NACIONAL NO. 1032, COLONIA LOS MO...        11510.0   \n",
       "6505  SERIS Y ZAACHILA  COL. LA RAZA C.P. 02990, AZC...         2990.0   \n",
       "6507  CLZD. VALLEJO ESQ. ANTONIO VALERIANO  COL. LA ...         2990.0   \n",
       "6508  ZAACHILA Y JACARANDAS S/N  COL. LA RAZA C.P. 0...         2990.0   \n",
       "6509  CLZD. VALLEJO Y JACARANDAS  COL. LA RAZA C.P. ...         2990.0   \n",
       "\n",
       "     ESTATUS DE OPERACION     LONGITUD     LATITUD NIVEL ATENCION  \n",
       "6399         EN OPERACION  -99.2088913  19.4385309  SEGUNDO NIVEL  \n",
       "6505         EN OPERACION     -99.1442     19.4662   TERCER NIVEL  \n",
       "6507         EN OPERACION  -99.1470262  19.4664404  SEGUNDO NIVEL  \n",
       "6508         EN OPERACION   -99.144716   19.466279   TERCER NIVEL  \n",
       "6509         EN OPERACION      -99.182      19.486  SEGUNDO NIVEL  "
      ]
     },
     "execution_count": 215,
     "metadata": {},
     "output_type": "execute_result"
    }
   ],
   "source": [
    "cdmx_hospitals = hospitals_cdmx[['CLUES', 'NOMBRE DE LA ENTIDAD', 'NOMBRE DEL MUNICIPIO', 'NOMBRE DE LA LOCALIDAD',\n",
    "       'NOMBRE DE LA JURISDICCION', 'CLAVE DE LA INSTITUCION', 'NOMBRE DE TIPOLOGIA', 'CONSULTORIOS DE MED GRAL', 'CONSULTORIOS EN OTRAS AREAS',\n",
    "       'TOTAL DE CONSULTORIOS', 'CAMAS EN AREA DE HOS', 'CAMAS EN OTRAS AREAS',\n",
    "       'TOTAL DE CAMAS', 'NOMBRE DE LA UNIDAD', 'OBSERVACIONES DE LA DIRECCION', 'CODIGO POSTAL',\n",
    "       'ESTATUS DE OPERACION', 'LONGITUD', 'LATITUD', 'NIVEL ATENCION']]\n",
    "cdmx_hospitals.head()  "
   ]
  },
  {
   "cell_type": "code",
   "execution_count": 216,
   "metadata": {},
   "outputs": [],
   "source": [
    "cdmx_hospitals = cdmx_hospitals.loc[(cdmx_hospitals[\"ESTATUS DE OPERACION\"] == \"EN OPERACION\")]\n",
    "cdmx_hospitals = cdmx_hospitals.loc[(cdmx_hospitals[\"TOTAL DE CAMAS\"] != 0)]\n",
    "cdmx_hospitals.to_csv('cdmx_hospitals.csv')"
   ]
  },
  {
   "cell_type": "markdown",
   "metadata": {},
   "source": [
    "## Beds per capita (institutions)"
   ]
  },
  {
   "cell_type": "code",
   "execution_count": 217,
   "metadata": {},
   "outputs": [],
   "source": [
    "#Import data\n",
    "hospital_data_to_load = \"data_output/cdmx_hospitals.csv\" #data generated from \"Data cleaning\"\n",
    "cdmx_hospitals = pd.read_csv(hospital_data_to_load, encoding='latin-1')\n",
    "insurance_data_to_load = \"data_input/insured_population.csv\" #Data from INEGI \"derechohabiencia cdmx 2015\"\n",
    "population_insured = pd.read_csv(insurance_data_to_load)\n",
    "population_insured.set_index('CLAVE DE LA INSTITUCION', inplace=True)\n",
    "bed_data_to_load = \"data_input/comparison_beds.csv\" #Data from www.nationmaster.com/country-info/stats/Health/Hospital-beds/Per-1%2C000-people\n",
    "comparison_beds = pd.read_csv(bed_data_to_load)\n",
    "comparison_beds.set_index('CLAVE DE LA INSTITUCION', inplace=True)"
   ]
  },
  {
   "cell_type": "code",
   "execution_count": 218,
   "metadata": {},
   "outputs": [],
   "source": [
    "#Dataframe number of beds/institution\n",
    "cdmx_hospitals = cdmx_hospitals.rename(columns={\"TOTAL DE CAMAS\":\"camas\"})\n",
    "hospitals_inst = pd.DataFrame(cdmx_hospitals.groupby([\"CLAVE DE LA INSTITUCION\"]).camas.sum()) "
   ]
  },
  {
   "cell_type": "code",
   "execution_count": 219,
   "metadata": {},
   "outputs": [],
   "source": [
    "#Combine rare institutions in category \"other\"\n",
    "hospitals_institutions = hospitals_inst.loc[[\"IMSS\", \"ISSSTE\", \"PEMEX\", \"SMP\", \"SSA\"]]\n",
    "others = hospitals_inst.loc[[\"CRO\", \"SEDENA\", \"SEMAR\", \"SME\"]]\n",
    "OTHERS = others[\"camas\"].sum()\n",
    "other_inst = pd.DataFrame({\"camas\": [OTHERS]})\n",
    "other_inst = other_inst.rename(index={0:'OTHERS'})\n",
    "hospitals_all_beds = hospitals_institutions.append(other_inst)"
   ]
  },
  {
   "cell_type": "code",
   "execution_count": 220,
   "metadata": {},
   "outputs": [],
   "source": [
    "#Dataframe number of hospitals/institution\n",
    "cdmx_hospitals = cdmx_hospitals.rename(columns={\"NOMBRE DE LA UNIDAD\":\"nombre_hospital\"})\n",
    "hospitals_number_all = pd.DataFrame(cdmx_hospitals.groupby([\"CLAVE DE LA INSTITUCION\"]).nombre_hospital.count())"
   ]
  },
  {
   "cell_type": "code",
   "execution_count": 221,
   "metadata": {},
   "outputs": [],
   "source": [
    "#Combine rare hospitals in category \"other\"\n",
    "hospitals_number = hospitals_number_all.loc[[\"IMSS\", \"ISSSTE\", \"PEMEX\", \"SMP\", \"SSA\"]]\n",
    "number_others1 = hospitals_number_all.loc[[\"CRO\", \"SEDENA\", \"SEMAR\", \"SME\"]]\n",
    "numb_others = number_others1[\"nombre_hospital\"].sum()\n",
    "numb_others = pd.DataFrame({\"nombre_hospital\": [numb_others]})\n",
    "numb_others = numb_others.rename(index={0:'OTHERS'})\n",
    "hospitals_all_number = hospitals_number.append(numb_others)"
   ]
  },
  {
   "cell_type": "code",
   "execution_count": 222,
   "metadata": {},
   "outputs": [],
   "source": [
    "#Combine dataframes \n",
    "df_institutions = hospitals_all_number.join(hospitals_all_beds, how=\"outer\")\n",
    "df_institutions = df_institutions.rename(columns={\"nombre_hospital\" : \"number_of_hospitals\"})\n",
    "df_institutions = df_institutions.join(population_insured, how=\"outer\")"
   ]
  },
  {
   "cell_type": "code",
   "execution_count": 223,
   "metadata": {},
   "outputs": [
    {
     "data": {
      "text/html": [
       "<div>\n",
       "<style scoped>\n",
       "    .dataframe tbody tr th:only-of-type {\n",
       "        vertical-align: middle;\n",
       "    }\n",
       "\n",
       "    .dataframe tbody tr th {\n",
       "        vertical-align: top;\n",
       "    }\n",
       "\n",
       "    .dataframe thead th {\n",
       "        text-align: right;\n",
       "    }\n",
       "</style>\n",
       "<table border=\"1\" class=\"dataframe\">\n",
       "  <thead>\n",
       "    <tr style=\"text-align: right;\">\n",
       "      <th></th>\n",
       "      <th>number_of_hospitals</th>\n",
       "      <th>camas</th>\n",
       "      <th>population_insured</th>\n",
       "      <th>beds per 1000</th>\n",
       "    </tr>\n",
       "    <tr>\n",
       "      <th>CLAVE DE LA INSTITUCION</th>\n",
       "      <th></th>\n",
       "      <th></th>\n",
       "      <th></th>\n",
       "      <th></th>\n",
       "    </tr>\n",
       "  </thead>\n",
       "  <tbody>\n",
       "    <tr>\n",
       "      <th>IMSS</th>\n",
       "      <td>29</td>\n",
       "      <td>5989</td>\n",
       "      <td>3233124</td>\n",
       "      <td>1.852388</td>\n",
       "    </tr>\n",
       "    <tr>\n",
       "      <th>ISSSTE</th>\n",
       "      <td>8</td>\n",
       "      <td>1848</td>\n",
       "      <td>1096209</td>\n",
       "      <td>1.685810</td>\n",
       "    </tr>\n",
       "    <tr>\n",
       "      <th>PEMEX</th>\n",
       "      <td>2</td>\n",
       "      <td>240</td>\n",
       "      <td>101922</td>\n",
       "      <td>2.354742</td>\n",
       "    </tr>\n",
       "    <tr>\n",
       "      <th>SMP</th>\n",
       "      <td>451</td>\n",
       "      <td>5420</td>\n",
       "      <td>605038</td>\n",
       "      <td>8.958115</td>\n",
       "    </tr>\n",
       "    <tr>\n",
       "      <th>SSA</th>\n",
       "      <td>55</td>\n",
       "      <td>7390</td>\n",
       "      <td>2009093</td>\n",
       "      <td>3.678277</td>\n",
       "    </tr>\n",
       "    <tr>\n",
       "      <th>OTHERS</th>\n",
       "      <td>11</td>\n",
       "      <td>1262</td>\n",
       "      <td>152621</td>\n",
       "      <td>8.268849</td>\n",
       "    </tr>\n",
       "  </tbody>\n",
       "</table>\n",
       "</div>"
      ],
      "text/plain": [
       "                         number_of_hospitals  camas  population_insured  \\\n",
       "CLAVE DE LA INSTITUCION                                                   \n",
       "IMSS                                      29   5989             3233124   \n",
       "ISSSTE                                     8   1848             1096209   \n",
       "PEMEX                                      2    240              101922   \n",
       "SMP                                      451   5420              605038   \n",
       "SSA                                       55   7390             2009093   \n",
       "OTHERS                                    11   1262              152621   \n",
       "\n",
       "                         beds per 1000  \n",
       "CLAVE DE LA INSTITUCION                 \n",
       "IMSS                          1.852388  \n",
       "ISSSTE                        1.685810  \n",
       "PEMEX                         2.354742  \n",
       "SMP                           8.958115  \n",
       "SSA                           3.678277  \n",
       "OTHERS                        8.268849  "
      ]
     },
     "execution_count": 223,
     "metadata": {},
     "output_type": "execute_result"
    }
   ],
   "source": [
    "#Add a column containing the bed per capita index\n",
    "df_institutions['beds per 1000'] = (df_institutions['camas']/df_institutions['population_insured'])*1000\n",
    "df_institutions"
   ]
  },
  {
   "cell_type": "code",
   "execution_count": 224,
   "metadata": {},
   "outputs": [],
   "source": [
    "#Sort values for plots/summary table\n",
    "beds= df_institutions.sort_values(\"beds per 1000\", ascending=False)\n",
    "beds.to_csv('data_output/beds_per_capita.csv') #save summary table to csv\n",
    "sum_beds = beds[[\"camas\"]]\n",
    "sum_beds = sum_beds.sort_values(\"camas\", ascending=False)"
   ]
  },
  {
   "cell_type": "code",
   "execution_count": 225,
   "metadata": {},
   "outputs": [],
   "source": [
    "beds_plot = beds[['beds per 1000']]\n",
    "beds_plot = beds_plot.sort_values(\"beds per 1000\", ascending=True)"
   ]
  },
  {
   "cell_type": "code",
   "execution_count": 226,
   "metadata": {},
   "outputs": [],
   "source": [
    "hospitals = df_institutions[[\"number_of_hospitals\"]]\n",
    "hospitals = hospitals.sort_values(\"number_of_hospitals\", ascending=True)"
   ]
  },
  {
   "cell_type": "code",
   "execution_count": 227,
   "metadata": {},
   "outputs": [
    {
     "data": {
      "text/html": [
       "<div>\n",
       "<style scoped>\n",
       "    .dataframe tbody tr th:only-of-type {\n",
       "        vertical-align: middle;\n",
       "    }\n",
       "\n",
       "    .dataframe tbody tr th {\n",
       "        vertical-align: top;\n",
       "    }\n",
       "\n",
       "    .dataframe thead th {\n",
       "        text-align: right;\n",
       "    }\n",
       "</style>\n",
       "<table border=\"1\" class=\"dataframe\">\n",
       "  <thead>\n",
       "    <tr style=\"text-align: right;\">\n",
       "      <th></th>\n",
       "      <th>beds per 1000</th>\n",
       "    </tr>\n",
       "    <tr>\n",
       "      <th>CLAVE DE LA INSTITUCION</th>\n",
       "      <th></th>\n",
       "    </tr>\n",
       "  </thead>\n",
       "  <tbody>\n",
       "    <tr>\n",
       "      <th>EL SALVADOR AVERAGE</th>\n",
       "      <td>1.650000</td>\n",
       "    </tr>\n",
       "    <tr>\n",
       "      <th>ISSSTE</th>\n",
       "      <td>1.685810</td>\n",
       "    </tr>\n",
       "    <tr>\n",
       "      <th>IMSS</th>\n",
       "      <td>1.852388</td>\n",
       "    </tr>\n",
       "    <tr>\n",
       "      <th>PEMEX</th>\n",
       "      <td>2.354742</td>\n",
       "    </tr>\n",
       "    <tr>\n",
       "      <th>USA AVERAGE</th>\n",
       "      <td>3.300000</td>\n",
       "    </tr>\n",
       "    <tr>\n",
       "      <th>SSA</th>\n",
       "      <td>3.678277</td>\n",
       "    </tr>\n",
       "    <tr>\n",
       "      <th>EUROPEAN UNION AVERAGE</th>\n",
       "      <td>6.420000</td>\n",
       "    </tr>\n",
       "    <tr>\n",
       "      <th>OTHERS</th>\n",
       "      <td>8.268849</td>\n",
       "    </tr>\n",
       "    <tr>\n",
       "      <th>SMP</th>\n",
       "      <td>8.958115</td>\n",
       "    </tr>\n",
       "  </tbody>\n",
       "</table>\n",
       "</div>"
      ],
      "text/plain": [
       "                         beds per 1000\n",
       "CLAVE DE LA INSTITUCION               \n",
       "EL SALVADOR AVERAGE           1.650000\n",
       "ISSSTE                        1.685810\n",
       "IMSS                          1.852388\n",
       "PEMEX                         2.354742\n",
       "USA AVERAGE                   3.300000\n",
       "SSA                           3.678277\n",
       "EUROPEAN UNION AVERAGE        6.420000\n",
       "OTHERS                        8.268849\n",
       "SMP                           8.958115"
      ]
     },
     "execution_count": 227,
     "metadata": {},
     "output_type": "execute_result"
    }
   ],
   "source": [
    "#dataframe adding comparative values\n",
    "beds_compared = beds_plot.append(comparison_beds)\n",
    "beds_compared = beds_compared.sort_values(\"beds per 1000\", ascending=True)\n",
    "beds_compared"
   ]
  },
  {
   "cell_type": "code",
   "execution_count": 228,
   "metadata": {},
   "outputs": [
    {
     "data": {
      "image/png": "[encoded data removed]",
      "text/plain": [
       "<matplotlib.figure.Figure at 0x10b1b55c0>"
      ]
     },
     "metadata": {},
     "output_type": "display_data"
    }
   ],
   "source": [
    "#Plot beds per capita with comparative values\n",
    "beds_compared.plot(kind=\"barh\", figsize=(12,8), legend = False)\n",
    "plt.title(\"Hospital beds per thousand by institution\").set_size(20)\n",
    "plt.xlabel(\"Hospital beds per 1000\").set_size(20)\n",
    "plt.ylabel(\"Institution\").set_size(20)\n",
    "plt.tick_params(axis=\"x\", labelsize=14) \n",
    "plt.tick_params(axis=\"y\", labelsize=14)\n",
    "plt.savefig(\"beds_capita_institution_compared_hor.png\")\n",
    "plt.show()"
   ]
  },
  {
   "cell_type": "code",
   "execution_count": 229,
   "metadata": {},
   "outputs": [
    {
     "data": {
      "image/png": "[encoded data removed]",
      "text/plain": [
       "<matplotlib.figure.Figure at 0x107a48ba8>"
      ]
     },
     "metadata": {},
     "output_type": "display_data"
    }
   ],
   "source": [
    "#Plot the number of beds per capita by institution\n",
    "beds_plot.plot(kind=\"barh\", figsize=(12,8), legend = False)\n",
    "plt.title(\"Hospital beds per thousand by institution\").set_size(20)\n",
    "plt.xlabel(\"Hospital beds per 1000\").set_size(20)\n",
    "plt.ylabel(\"Institution\").set_size(20)\n",
    "plt.tick_params(axis=\"x\", labelsize=14) \n",
    "plt.tick_params(axis=\"y\", labelsize=14)\n",
    "plt.savefig(\"beds_capita_institution_hor.png\")\n",
    "plt.show()"
   ]
  },
  {
   "cell_type": "code",
   "execution_count": 230,
   "metadata": {},
   "outputs": [
    {
     "data": {
      "image/png": "[encoded data removed]",
      "text/plain": [
       "<matplotlib.figure.Figure at 0x11458bcc0>"
      ]
     },
     "metadata": {},
     "output_type": "display_data"
    }
   ],
   "source": [
    "#Plot the number of hospitals by institution\n",
    "hospitals.plot(kind=\"barh\", figsize=(12,8), legend = False)\n",
    "plt.title(\"Number of hospitals by institution\").set_size(20)\n",
    "plt.xlabel(\"Number of hospitals\").set_size(20)\n",
    "plt.ylabel(\"Institution\").set_size(20)\n",
    "plt.tick_params(axis=\"x\", labelsize=14) \n",
    "plt.tick_params(axis=\"y\", labelsize=14)\n",
    "plt.savefig(\"hospitals_institution_hor.png\")\n",
    "plt.show()"
   ]
  },
  {
   "cell_type": "markdown",
   "metadata": {},
   "source": [
    "---"
   ]
  },
  {
   "cell_type": "markdown",
   "metadata": {},
   "source": [
    "# Daniel"
   ]
  },
  {
   "cell_type": "markdown",
   "metadata": {},
   "source": [
    "# Beds per capita (delegaciones)\n",
    "\n"
   ]
  },
  {
   "cell_type": "code",
   "execution_count": null,
   "metadata": {},
   "outputs": [],
   "source": []
  },
  {
   "cell_type": "code",
   "execution_count": null,
   "metadata": {},
   "outputs": [],
   "source": []
  },
  {
   "cell_type": "code",
   "execution_count": 231,
   "metadata": {},
   "outputs": [],
   "source": [
    "hospital_data_to_load = \"data_output/cdmx_hospitals.csv\""
   ]
  },
  {
   "cell_type": "code",
   "execution_count": 232,
   "metadata": {},
   "outputs": [
    {
     "data": {
      "text/html": [
       "<div>\n",
       "<style scoped>\n",
       "    .dataframe tbody tr th:only-of-type {\n",
       "        vertical-align: middle;\n",
       "    }\n",
       "\n",
       "    .dataframe tbody tr th {\n",
       "        vertical-align: top;\n",
       "    }\n",
       "\n",
       "    .dataframe thead th {\n",
       "        text-align: right;\n",
       "    }\n",
       "</style>\n",
       "<table border=\"1\" class=\"dataframe\">\n",
       "  <thead>\n",
       "    <tr style=\"text-align: right;\">\n",
       "      <th></th>\n",
       "      <th>Unnamed: 0</th>\n",
       "      <th>CLUES</th>\n",
       "      <th>NOMBRE DE LA ENTIDAD</th>\n",
       "      <th>NOMBRE DEL MUNICIPIO</th>\n",
       "      <th>NOMBRE DE LA LOCALIDAD</th>\n",
       "      <th>NOMBRE DE LA JURISDICCION</th>\n",
       "      <th>CLAVE DE LA INSTITUCION</th>\n",
       "      <th>NOMBRE DE TIPOLOGIA</th>\n",
       "      <th>CONSULTORIOS DE MED GRAL</th>\n",
       "      <th>CONSULTORIOS EN OTRAS AREAS</th>\n",
       "      <th>...</th>\n",
       "      <th>CAMAS EN AREA DE HOS</th>\n",
       "      <th>CAMAS EN OTRAS AREAS</th>\n",
       "      <th>TOTAL DE CAMAS</th>\n",
       "      <th>NOMBRE DE LA UNIDAD</th>\n",
       "      <th>OBSERVACIONES DE LA DIRECCION</th>\n",
       "      <th>CODIGO POSTAL</th>\n",
       "      <th>ESTATUS DE OPERACION</th>\n",
       "      <th>LONGITUD</th>\n",
       "      <th>LATITUD</th>\n",
       "      <th>NIVEL ATENCION</th>\n",
       "    </tr>\n",
       "  </thead>\n",
       "  <tbody>\n",
       "    <tr>\n",
       "      <th>0</th>\n",
       "      <td>6399</td>\n",
       "      <td>DFCRO000011</td>\n",
       "      <td>CIUDAD DE MEXICO</td>\n",
       "      <td>MIGUEL HIDALGO</td>\n",
       "      <td>MIGUEL HIDALGO</td>\n",
       "      <td>MIGUEL HIDALGO</td>\n",
       "      <td>CRO</td>\n",
       "      <td>NO ESPECIFICADO</td>\n",
       "      <td>5</td>\n",
       "      <td>0</td>\n",
       "      <td>...</td>\n",
       "      <td>60</td>\n",
       "      <td>0</td>\n",
       "      <td>60</td>\n",
       "      <td>CENTRO DE TRAUMA DE CRUZ ROJA MEXICANA EN EL D...</td>\n",
       "      <td>AV. EJÉRCITO NACIONAL NO. 1032, COLONIA LOS MO...</td>\n",
       "      <td>11510.0</td>\n",
       "      <td>EN OPERACION</td>\n",
       "      <td>-99.2088913</td>\n",
       "      <td>19.438531</td>\n",
       "      <td>SEGUNDO NIVEL</td>\n",
       "    </tr>\n",
       "    <tr>\n",
       "      <th>1</th>\n",
       "      <td>6505</td>\n",
       "      <td>DFIMS000020</td>\n",
       "      <td>CIUDAD DE MEXICO</td>\n",
       "      <td>AZCAPOTZALCO</td>\n",
       "      <td>AZCAPOTZALCO</td>\n",
       "      <td>AZCAPOTZALCO</td>\n",
       "      <td>IMSS</td>\n",
       "      <td>HOSPITAL DE ESPECIALIDADES</td>\n",
       "      <td>75</td>\n",
       "      <td>0</td>\n",
       "      <td>...</td>\n",
       "      <td>465</td>\n",
       "      <td>0</td>\n",
       "      <td>465</td>\n",
       "      <td>HES CM LA RAZA</td>\n",
       "      <td>SERIS Y ZAACHILA  COL. LA RAZA C.P. 02990, AZC...</td>\n",
       "      <td>2990.0</td>\n",
       "      <td>EN OPERACION</td>\n",
       "      <td>-99.1442</td>\n",
       "      <td>19.466200</td>\n",
       "      <td>TERCER NIVEL</td>\n",
       "    </tr>\n",
       "    <tr>\n",
       "      <th>2</th>\n",
       "      <td>6507</td>\n",
       "      <td>DFIMS000044</td>\n",
       "      <td>CIUDAD DE MEXICO</td>\n",
       "      <td>AZCAPOTZALCO</td>\n",
       "      <td>AZCAPOTZALCO</td>\n",
       "      <td>AZCAPOTZALCO</td>\n",
       "      <td>IMSS</td>\n",
       "      <td>HOSPITAL DE GINECO-OBSTETRICIA</td>\n",
       "      <td>31</td>\n",
       "      <td>0</td>\n",
       "      <td>...</td>\n",
       "      <td>306</td>\n",
       "      <td>0</td>\n",
       "      <td>306</td>\n",
       "      <td>HGO CM LA RAZA</td>\n",
       "      <td>CLZD. VALLEJO ESQ. ANTONIO VALERIANO  COL. LA ...</td>\n",
       "      <td>2990.0</td>\n",
       "      <td>EN OPERACION</td>\n",
       "      <td>-99.1470262</td>\n",
       "      <td>19.466440</td>\n",
       "      <td>SEGUNDO NIVEL</td>\n",
       "    </tr>\n",
       "    <tr>\n",
       "      <th>3</th>\n",
       "      <td>6508</td>\n",
       "      <td>DFIMS000056</td>\n",
       "      <td>CIUDAD DE MEXICO</td>\n",
       "      <td>AZCAPOTZALCO</td>\n",
       "      <td>AZCAPOTZALCO</td>\n",
       "      <td>AZCAPOTZALCO</td>\n",
       "      <td>IMSS</td>\n",
       "      <td>HOSPITAL INFECTOLOGÍA</td>\n",
       "      <td>6</td>\n",
       "      <td>0</td>\n",
       "      <td>...</td>\n",
       "      <td>148</td>\n",
       "      <td>0</td>\n",
       "      <td>148</td>\n",
       "      <td>HINFEC CM LA RAZA</td>\n",
       "      <td>ZAACHILA Y JACARANDAS S/N  COL. LA RAZA C.P. 0...</td>\n",
       "      <td>2990.0</td>\n",
       "      <td>EN OPERACION</td>\n",
       "      <td>-99.144716</td>\n",
       "      <td>19.466279</td>\n",
       "      <td>TERCER NIVEL</td>\n",
       "    </tr>\n",
       "    <tr>\n",
       "      <th>4</th>\n",
       "      <td>6509</td>\n",
       "      <td>DFIMS000061</td>\n",
       "      <td>CIUDAD DE MEXICO</td>\n",
       "      <td>AZCAPOTZALCO</td>\n",
       "      <td>AZCAPOTZALCO</td>\n",
       "      <td>AZCAPOTZALCO</td>\n",
       "      <td>IMSS</td>\n",
       "      <td>HOSPITAL GENERAL</td>\n",
       "      <td>69</td>\n",
       "      <td>0</td>\n",
       "      <td>...</td>\n",
       "      <td>523</td>\n",
       "      <td>0</td>\n",
       "      <td>523</td>\n",
       "      <td>HG CM LA RAZA</td>\n",
       "      <td>CLZD. VALLEJO Y JACARANDAS  COL. LA RAZA C.P. ...</td>\n",
       "      <td>2990.0</td>\n",
       "      <td>EN OPERACION</td>\n",
       "      <td>-99.182</td>\n",
       "      <td>19.486000</td>\n",
       "      <td>SEGUNDO NIVEL</td>\n",
       "    </tr>\n",
       "  </tbody>\n",
       "</table>\n",
       "<p>5 rows × 21 columns</p>\n",
       "</div>"
      ],
      "text/plain": [
       "   Unnamed: 0        CLUES NOMBRE DE LA ENTIDAD NOMBRE DEL MUNICIPIO  \\\n",
       "0        6399  DFCRO000011     CIUDAD DE MEXICO       MIGUEL HIDALGO   \n",
       "1        6505  DFIMS000020     CIUDAD DE MEXICO         AZCAPOTZALCO   \n",
       "2        6507  DFIMS000044     CIUDAD DE MEXICO         AZCAPOTZALCO   \n",
       "3        6508  DFIMS000056     CIUDAD DE MEXICO         AZCAPOTZALCO   \n",
       "4        6509  DFIMS000061     CIUDAD DE MEXICO         AZCAPOTZALCO   \n",
       "\n",
       "  NOMBRE DE LA LOCALIDAD NOMBRE DE LA JURISDICCION CLAVE DE LA INSTITUCION  \\\n",
       "0         MIGUEL HIDALGO            MIGUEL HIDALGO                     CRO   \n",
       "1           AZCAPOTZALCO              AZCAPOTZALCO                    IMSS   \n",
       "2           AZCAPOTZALCO              AZCAPOTZALCO                    IMSS   \n",
       "3           AZCAPOTZALCO              AZCAPOTZALCO                    IMSS   \n",
       "4           AZCAPOTZALCO              AZCAPOTZALCO                    IMSS   \n",
       "\n",
       "              NOMBRE DE TIPOLOGIA  CONSULTORIOS DE MED GRAL  \\\n",
       "0                 NO ESPECIFICADO                         5   \n",
       "1      HOSPITAL DE ESPECIALIDADES                        75   \n",
       "2  HOSPITAL DE GINECO-OBSTETRICIA                        31   \n",
       "3           HOSPITAL INFECTOLOGÍA                         6   \n",
       "4                HOSPITAL GENERAL                        69   \n",
       "\n",
       "   CONSULTORIOS EN OTRAS AREAS       ...        CAMAS EN AREA DE HOS  \\\n",
       "0                            0       ...                          60   \n",
       "1                            0       ...                         465   \n",
       "2                            0       ...                         306   \n",
       "3                            0       ...                         148   \n",
       "4                            0       ...                         523   \n",
       "\n",
       "   CAMAS EN OTRAS AREAS  TOTAL DE CAMAS  \\\n",
       "0                     0              60   \n",
       "1                     0             465   \n",
       "2                     0             306   \n",
       "3                     0             148   \n",
       "4                     0             523   \n",
       "\n",
       "                                 NOMBRE DE LA UNIDAD  \\\n",
       "0  CENTRO DE TRAUMA DE CRUZ ROJA MEXICANA EN EL D...   \n",
       "1                                     HES CM LA RAZA   \n",
       "2                                     HGO CM LA RAZA   \n",
       "3                                  HINFEC CM LA RAZA   \n",
       "4                                      HG CM LA RAZA   \n",
       "\n",
       "                       OBSERVACIONES DE LA DIRECCION CODIGO POSTAL  \\\n",
       "0  AV. EJÉRCITO NACIONAL NO. 1032, COLONIA LOS MO...       11510.0   \n",
       "1  SERIS Y ZAACHILA  COL. LA RAZA C.P. 02990, AZC...        2990.0   \n",
       "2  CLZD. VALLEJO ESQ. ANTONIO VALERIANO  COL. LA ...        2990.0   \n",
       "3  ZAACHILA Y JACARANDAS S/N  COL. LA RAZA C.P. 0...        2990.0   \n",
       "4  CLZD. VALLEJO Y JACARANDAS  COL. LA RAZA C.P. ...        2990.0   \n",
       "\n",
       "   ESTATUS DE OPERACION     LONGITUD    LATITUD  NIVEL ATENCION  \n",
       "0          EN OPERACION  -99.2088913  19.438531   SEGUNDO NIVEL  \n",
       "1          EN OPERACION     -99.1442  19.466200    TERCER NIVEL  \n",
       "2          EN OPERACION  -99.1470262  19.466440   SEGUNDO NIVEL  \n",
       "3          EN OPERACION   -99.144716  19.466279    TERCER NIVEL  \n",
       "4          EN OPERACION      -99.182  19.486000   SEGUNDO NIVEL  \n",
       "\n",
       "[5 rows x 21 columns]"
      ]
     },
     "execution_count": 232,
     "metadata": {},
     "output_type": "execute_result"
    }
   ],
   "source": [
    "cdmx_hospitals_df = pd.read_csv(hospital_data_to_load)\n",
    "cdmx_hospitals_df.head()"
   ]
  },
  {
   "cell_type": "code",
   "execution_count": 233,
   "metadata": {},
   "outputs": [
    {
     "data": {
      "text/html": [
       "<div>\n",
       "<style scoped>\n",
       "    .dataframe tbody tr th:only-of-type {\n",
       "        vertical-align: middle;\n",
       "    }\n",
       "\n",
       "    .dataframe tbody tr th {\n",
       "        vertical-align: top;\n",
       "    }\n",
       "\n",
       "    .dataframe thead th {\n",
       "        text-align: right;\n",
       "    }\n",
       "</style>\n",
       "<table border=\"1\" class=\"dataframe\">\n",
       "  <thead>\n",
       "    <tr style=\"text-align: right;\">\n",
       "      <th></th>\n",
       "      <th>TOTAL DE CAMAS</th>\n",
       "      <th>TOTAL DE HOSPITALES</th>\n",
       "    </tr>\n",
       "    <tr>\n",
       "      <th>NOMBRE DEL MUNICIPIO</th>\n",
       "      <th></th>\n",
       "      <th></th>\n",
       "    </tr>\n",
       "  </thead>\n",
       "  <tbody>\n",
       "    <tr>\n",
       "      <th>AZCAPOTZALCO</th>\n",
       "      <td>1910</td>\n",
       "      <td>21</td>\n",
       "    </tr>\n",
       "    <tr>\n",
       "      <th>BENITO JUÁREZ</th>\n",
       "      <td>1631</td>\n",
       "      <td>28</td>\n",
       "    </tr>\n",
       "    <tr>\n",
       "      <th>COYOACÁN</th>\n",
       "      <td>1073</td>\n",
       "      <td>26</td>\n",
       "    </tr>\n",
       "    <tr>\n",
       "      <th>CUAJIMALPA DE MORELOS</th>\n",
       "      <td>24</td>\n",
       "      <td>6</td>\n",
       "    </tr>\n",
       "    <tr>\n",
       "      <th>CUAUHTÉMOC</th>\n",
       "      <td>3735</td>\n",
       "      <td>52</td>\n",
       "    </tr>\n",
       "    <tr>\n",
       "      <th>GUSTAVO A. MADERO</th>\n",
       "      <td>2916</td>\n",
       "      <td>92</td>\n",
       "    </tr>\n",
       "    <tr>\n",
       "      <th>IZTACALCO</th>\n",
       "      <td>623</td>\n",
       "      <td>22</td>\n",
       "    </tr>\n",
       "    <tr>\n",
       "      <th>IZTAPALAPA</th>\n",
       "      <td>2065</td>\n",
       "      <td>117</td>\n",
       "    </tr>\n",
       "    <tr>\n",
       "      <th>LA MAGDALENA CONTRERAS</th>\n",
       "      <td>72</td>\n",
       "      <td>5</td>\n",
       "    </tr>\n",
       "    <tr>\n",
       "      <th>MIGUEL HIDALGO</th>\n",
       "      <td>2723</td>\n",
       "      <td>35</td>\n",
       "    </tr>\n",
       "    <tr>\n",
       "      <th>MILPA ALTA</th>\n",
       "      <td>133</td>\n",
       "      <td>12</td>\n",
       "    </tr>\n",
       "    <tr>\n",
       "      <th>TLALPAN</th>\n",
       "      <td>2364</td>\n",
       "      <td>33</td>\n",
       "    </tr>\n",
       "    <tr>\n",
       "      <th>TLÁHUAC</th>\n",
       "      <td>497</td>\n",
       "      <td>32</td>\n",
       "    </tr>\n",
       "    <tr>\n",
       "      <th>VENUSTIANO CARRANZA</th>\n",
       "      <td>619</td>\n",
       "      <td>27</td>\n",
       "    </tr>\n",
       "    <tr>\n",
       "      <th>XOCHIMILCO</th>\n",
       "      <td>216</td>\n",
       "      <td>25</td>\n",
       "    </tr>\n",
       "    <tr>\n",
       "      <th>ÁLVARO OBREGÓN</th>\n",
       "      <td>1548</td>\n",
       "      <td>22</td>\n",
       "    </tr>\n",
       "  </tbody>\n",
       "</table>\n",
       "</div>"
      ],
      "text/plain": [
       "                        TOTAL DE CAMAS  TOTAL DE HOSPITALES\n",
       "NOMBRE DEL MUNICIPIO                                       \n",
       "AZCAPOTZALCO                      1910                   21\n",
       "BENITO JUÁREZ                     1631                   28\n",
       "COYOACÁN                          1073                   26\n",
       "CUAJIMALPA DE MORELOS               24                    6\n",
       "CUAUHTÉMOC                        3735                   52\n",
       "GUSTAVO A. MADERO                 2916                   92\n",
       "IZTACALCO                          623                   22\n",
       "IZTAPALAPA                        2065                  117\n",
       "LA MAGDALENA CONTRERAS              72                    5\n",
       "MIGUEL HIDALGO                    2723                   35\n",
       "MILPA ALTA                         133                   12\n",
       "TLALPAN                           2364                   33\n",
       "TLÁHUAC                            497                   32\n",
       "VENUSTIANO CARRANZA                619                   27\n",
       "XOCHIMILCO                         216                   25\n",
       "ÁLVARO OBREGÓN                    1548                   22"
      ]
     },
     "execution_count": 233,
     "metadata": {},
     "output_type": "execute_result"
    }
   ],
   "source": [
    "#How many beds are in CDMX\n",
    "total_beds_cdmx = cdmx_hospitals_df[\"TOTAL DE CAMAS\"].sum()\n",
    "\n",
    "#Group info by delegation \n",
    "cdmx_by_delegation = cdmx_hospitals_df.groupby(['NOMBRE DEL MUNICIPIO'])\n",
    "\n",
    "#How many beds are in CDMX by delegation\n",
    "total_beds_by_delegation = cdmx_by_delegation[\"TOTAL DE CAMAS\"].sum()\n",
    "\n",
    "# Place total_beds_by_delegation dataseries into in a Pandas DataFrame\n",
    "total_df_beds = pd.DataFrame(data=total_beds_by_delegation)\n",
    "\n",
    "#How many hospitals are in CDMX by delegation\n",
    "total_hospitals_by_delegation = cdmx_by_delegation[\"NOMBRE DE LA UNIDAD\"].nunique()\n",
    "\n",
    "# Place total_hospitals_by_delegation dataseries into a Pandas DataFrame\n",
    "total_df_hospitals = pd.DataFrame(data = total_hospitals_by_delegation)\n",
    "total_df_hospitals\n",
    "\n",
    "total_df_beds['TOTAL DE HOSPITALES'] = total_df_hospitals\n",
    "total_df_beds"
   ]
  },
  {
   "cell_type": "code",
   "execution_count": 234,
   "metadata": {},
   "outputs": [
    {
     "data": {
      "text/html": [
       "<div>\n",
       "<style scoped>\n",
       "    .dataframe tbody tr th:only-of-type {\n",
       "        vertical-align: middle;\n",
       "    }\n",
       "\n",
       "    .dataframe tbody tr th {\n",
       "        vertical-align: top;\n",
       "    }\n",
       "\n",
       "    .dataframe thead th {\n",
       "        text-align: right;\n",
       "    }\n",
       "</style>\n",
       "<table border=\"1\" class=\"dataframe\">\n",
       "  <thead>\n",
       "    <tr style=\"text-align: right;\">\n",
       "      <th></th>\n",
       "      <th>TOTAL DE CAMAS</th>\n",
       "      <th>TOTAL DE HOSPITALES</th>\n",
       "      <th>TOTAL DE HABITANTES</th>\n",
       "    </tr>\n",
       "    <tr>\n",
       "      <th>NOMBRE DEL MUNICIPIO</th>\n",
       "      <th></th>\n",
       "      <th></th>\n",
       "      <th></th>\n",
       "    </tr>\n",
       "  </thead>\n",
       "  <tbody>\n",
       "    <tr>\n",
       "      <th>AZCAPOTZALCO</th>\n",
       "      <td>1910</td>\n",
       "      <td>21</td>\n",
       "      <td>414711</td>\n",
       "    </tr>\n",
       "    <tr>\n",
       "      <th>BENITO JUÁREZ</th>\n",
       "      <td>1631</td>\n",
       "      <td>28</td>\n",
       "      <td>385439</td>\n",
       "    </tr>\n",
       "    <tr>\n",
       "      <th>COYOACÁN</th>\n",
       "      <td>1073</td>\n",
       "      <td>26</td>\n",
       "      <td>620416</td>\n",
       "    </tr>\n",
       "    <tr>\n",
       "      <th>CUAJIMALPA DE MORELOS</th>\n",
       "      <td>24</td>\n",
       "      <td>6</td>\n",
       "      <td>186391</td>\n",
       "    </tr>\n",
       "    <tr>\n",
       "      <th>CUAUHTÉMOC</th>\n",
       "      <td>3735</td>\n",
       "      <td>52</td>\n",
       "      <td>531831</td>\n",
       "    </tr>\n",
       "    <tr>\n",
       "      <th>GUSTAVO A. MADERO</th>\n",
       "      <td>2916</td>\n",
       "      <td>92</td>\n",
       "      <td>1185772</td>\n",
       "    </tr>\n",
       "    <tr>\n",
       "      <th>IZTACALCO</th>\n",
       "      <td>623</td>\n",
       "      <td>22</td>\n",
       "      <td>384326</td>\n",
       "    </tr>\n",
       "    <tr>\n",
       "      <th>IZTAPALAPA</th>\n",
       "      <td>2065</td>\n",
       "      <td>117</td>\n",
       "      <td>1815786</td>\n",
       "    </tr>\n",
       "    <tr>\n",
       "      <th>LA MAGDALENA CONTRERAS</th>\n",
       "      <td>72</td>\n",
       "      <td>5</td>\n",
       "      <td>239086</td>\n",
       "    </tr>\n",
       "    <tr>\n",
       "      <th>MIGUEL HIDALGO</th>\n",
       "      <td>2723</td>\n",
       "      <td>35</td>\n",
       "      <td>372889</td>\n",
       "    </tr>\n",
       "    <tr>\n",
       "      <th>MILPA ALTA</th>\n",
       "      <td>133</td>\n",
       "      <td>12</td>\n",
       "      <td>130582</td>\n",
       "    </tr>\n",
       "    <tr>\n",
       "      <th>TLALPAN</th>\n",
       "      <td>2364</td>\n",
       "      <td>33</td>\n",
       "      <td>360265</td>\n",
       "    </tr>\n",
       "    <tr>\n",
       "      <th>TLÁHUAC</th>\n",
       "      <td>497</td>\n",
       "      <td>32</td>\n",
       "      <td>650567</td>\n",
       "    </tr>\n",
       "    <tr>\n",
       "      <th>VENUSTIANO CARRANZA</th>\n",
       "      <td>619</td>\n",
       "      <td>27</td>\n",
       "      <td>430978</td>\n",
       "    </tr>\n",
       "    <tr>\n",
       "      <th>XOCHIMILCO</th>\n",
       "      <td>216</td>\n",
       "      <td>25</td>\n",
       "      <td>415007</td>\n",
       "    </tr>\n",
       "    <tr>\n",
       "      <th>ÁLVARO OBREGÓN</th>\n",
       "      <td>1548</td>\n",
       "      <td>22</td>\n",
       "      <td>727034</td>\n",
       "    </tr>\n",
       "  </tbody>\n",
       "</table>\n",
       "</div>"
      ],
      "text/plain": [
       "                        TOTAL DE CAMAS  TOTAL DE HOSPITALES  \\\n",
       "NOMBRE DEL MUNICIPIO                                          \n",
       "AZCAPOTZALCO                      1910                   21   \n",
       "BENITO JUÁREZ                     1631                   28   \n",
       "COYOACÁN                          1073                   26   \n",
       "CUAJIMALPA DE MORELOS               24                    6   \n",
       "CUAUHTÉMOC                        3735                   52   \n",
       "GUSTAVO A. MADERO                 2916                   92   \n",
       "IZTACALCO                          623                   22   \n",
       "IZTAPALAPA                        2065                  117   \n",
       "LA MAGDALENA CONTRERAS              72                    5   \n",
       "MIGUEL HIDALGO                    2723                   35   \n",
       "MILPA ALTA                         133                   12   \n",
       "TLALPAN                           2364                   33   \n",
       "TLÁHUAC                            497                   32   \n",
       "VENUSTIANO CARRANZA                619                   27   \n",
       "XOCHIMILCO                         216                   25   \n",
       "ÁLVARO OBREGÓN                    1548                   22   \n",
       "\n",
       "                        TOTAL DE HABITANTES  \n",
       "NOMBRE DEL MUNICIPIO                         \n",
       "AZCAPOTZALCO                         414711  \n",
       "BENITO JUÁREZ                        385439  \n",
       "COYOACÁN                             620416  \n",
       "CUAJIMALPA DE MORELOS                186391  \n",
       "CUAUHTÉMOC                           531831  \n",
       "GUSTAVO A. MADERO                   1185772  \n",
       "IZTACALCO                            384326  \n",
       "IZTAPALAPA                          1815786  \n",
       "LA MAGDALENA CONTRERAS               239086  \n",
       "MIGUEL HIDALGO                       372889  \n",
       "MILPA ALTA                           130582  \n",
       "TLALPAN                              360265  \n",
       "TLÁHUAC                              650567  \n",
       "VENUSTIANO CARRANZA                  430978  \n",
       "XOCHIMILCO                           415007  \n",
       "ÁLVARO OBREGÓN                       727034  "
      ]
     },
     "execution_count": 234,
     "metadata": {},
     "output_type": "execute_result"
    }
   ],
   "source": [
    "population_file = \"data_input/population_cdmx.csv\"\n",
    "\n",
    "cdmx_population_df = pd.read_csv(population_file)\n",
    "cdmx_population_df = cdmx_population_df.rename(columns={'Delegación': 'NOMBRE DEL MUNICIPIO', 'Total': 'TOTAL DE HABITANTES'})\n",
    "\n",
    "cdmx_population_df.set_index('NOMBRE DEL MUNICIPIO', inplace=True) \n",
    "cdmx_population_df\n",
    "\n",
    "total_df_beds = total_df_beds.join(cdmx_population_df, how=\"outer\")\n",
    "total_df_beds"
   ]
  },
  {
   "cell_type": "code",
   "execution_count": 235,
   "metadata": {},
   "outputs": [],
   "source": [
    "total_df_beds['BEDS PER 1000'] = total_df_beds['TOTAL DE CAMAS']/total_df_beds['TOTAL DE HABITANTES']*1000\n",
    "\n",
    "total_df_beds['BEDS PER 1000'] = total_df_beds['BEDS PER 1000'].map(\"{:,.2f}\".format)\n",
    "total_df_beds\n",
    "\n",
    "total_df_beds.to_csv('data_output/beds_hospitals_by_delegation.csv') "
   ]
  },
  {
   "cell_type": "code",
   "execution_count": 236,
   "metadata": {},
   "outputs": [
    {
     "data": {
      "image/png": "[encoded data removed]",
      "text/plain": [
       "<matplotlib.figure.Figure at 0x114514d30>"
      ]
     },
     "metadata": {},
     "output_type": "display_data"
    }
   ],
   "source": [
    "total_df_beds = total_df_beds.sort_values(\"TOTAL DE CAMAS\", ascending=True)\n",
    "total_df_beds['TOTAL DE CAMAS'].plot(kind=\"barh\", figsize=(12,8), legend = False, facecolor = 'blue')\n",
    "plt.title(\"Hospital beds per thousand by delegation\").set_size(20)\n",
    "plt.xlabel(\"Number of beds\").set_size(20)\n",
    "plt.ylabel(\"Delegation\").set_size(20)\n",
    "plt.tick_params(axis=\"x\", labelsize=14) \n",
    "plt.tick_params(axis=\"y\", labelsize=14)\n",
    "plt.savefig(\"figures/number_of_bed_by_delegation.png\")\n",
    "plt.show()\n"
   ]
  },
  {
   "cell_type": "code",
   "execution_count": 237,
   "metadata": {},
   "outputs": [
    {
     "data": {
      "image/png": "[encoded data removed]",
      "text/plain": [
       "<matplotlib.figure.Figure at 0x114efaf60>"
      ]
     },
     "metadata": {},
     "output_type": "display_data"
    }
   ],
   "source": [
    "total_df_beds = total_df_beds.sort_values(\"TOTAL DE HOSPITALES\", ascending=True)\n",
    "total_df_beds['TOTAL DE HOSPITALES'].plot(kind=\"barh\", figsize=(12,8), legend = False, facecolor = 'lightblue')\n",
    "plt.title(\"Number of hospitals by delegation\").set_size(20)\n",
    "plt.xlabel(\"Number of hospitals\").set_size(20)\n",
    "plt.ylabel(\"Delegation\").set_size(20)\n",
    "plt.tick_params(axis=\"x\", labelsize=14) \n",
    "plt.tick_params(axis=\"y\", labelsize=14)\n",
    "plt.savefig(\"figures/number_of_hospitals_by_delegation.png\")\n",
    "plt.show()"
   ]
  },
  {
   "cell_type": "code",
   "execution_count": 238,
   "metadata": {},
   "outputs": [
    {
     "data": {
      "image/png": "[encoded data removed]",
      "text/plain": [
       "<matplotlib.figure.Figure at 0x118c579b0>"
      ]
     },
     "metadata": {},
     "output_type": "display_data"
    }
   ],
   "source": [
    "total_df_beds = total_df_beds.sort_values(\"TOTAL DE HABITANTES\", ascending=True)\n",
    "total_df_beds['TOTAL DE HABITANTES'].plot(kind=\"barh\", figsize=(12,8), legend = False, facecolor = 'green')\n",
    "plt.title(\"Total population by delegation\").set_size(20)\n",
    "plt.xlabel(\"Population\").set_size(20)\n",
    "plt.ylabel(\"Delegation\").set_size(20)\n",
    "plt.tick_params(axis=\"x\", labelsize=14) \n",
    "plt.tick_params(axis=\"y\", labelsize=14)\n",
    "plt.savefig(\"figures/Total_population_by_delegation.png\")\n",
    "plt.show()"
   ]
  },
  {
   "cell_type": "code",
   "execution_count": 239,
   "metadata": {},
   "outputs": [],
   "source": [
    "# total_df_beds = total_df_beds.sort_values(\"BEDS PER 100\", ascending=False)\n",
    "# total_df_beds['BEDS PER 100'].plot(kind=\"barh\", figsize=(12,8), legend = False, facecolor = 'green')\n",
    "# plt.title(\"Total population by delegation\").set_size(20)\n",
    "# plt.xlabel(\"Population\").set_size(20)\n",
    "# plt.ylabel(\"Delegation\").set_size(20)\n",
    "# plt.tick_params(axis=\"x\", labelsize=14) \n",
    "# plt.tick_params(axis=\"y\", labelsize=14)\n",
    "# plt.savefig(\"Total_population_by_delegation.png\")\n",
    "# plt.show()"
   ]
  },
  {
   "cell_type": "code",
   "execution_count": null,
   "metadata": {},
   "outputs": [],
   "source": []
  },
  {
   "cell_type": "code",
   "execution_count": null,
   "metadata": {},
   "outputs": [],
   "source": []
  },
  {
   "cell_type": "code",
   "execution_count": null,
   "metadata": {},
   "outputs": [],
   "source": []
  },
  {
   "cell_type": "code",
   "execution_count": null,
   "metadata": {},
   "outputs": [],
   "source": []
  },
  {
   "cell_type": "code",
   "execution_count": null,
   "metadata": {},
   "outputs": [],
   "source": []
  },
  {
   "cell_type": "code",
   "execution_count": null,
   "metadata": {},
   "outputs": [],
   "source": []
  },
  {
   "cell_type": "code",
   "execution_count": null,
   "metadata": {},
   "outputs": [],
   "source": []
  },
  {
   "cell_type": "markdown",
   "metadata": {},
   "source": [
    "---"
   ]
  },
  {
   "cell_type": "markdown",
   "metadata": {},
   "source": [
    "# Joel"
   ]
  },
  {
   "cell_type": "code",
   "execution_count": 240,
   "metadata": {},
   "outputs": [],
   "source": [
    "years = ['2009','2010','2011','2012','2013','2014','2015','2016']"
   ]
  },
  {
   "cell_type": "code",
   "execution_count": 241,
   "metadata": {},
   "outputs": [
    {
     "name": "stdout",
     "output_type": "stream",
     "text": [
      "[LOG]: Processing... Datos/Urgencias_2009/URGENCIAS_2009.csv\n",
      "[LOG]: Error: URGENCIAS_2009.csv\n",
      "[LOG]: Processing... Datos/Urgencias_2010/URGENCIAS_2010.csv\n",
      "[LOG]: Error: URGENCIAS_2010.csv\n",
      "[LOG]: Processing... Datos/Urgencias_2011/URGENCIAS_2011.csv\n",
      "[LOG]: Error: URGENCIAS_2011.csv\n",
      "[LOG]: Processing... Datos/Urgencias_2012/URGENCIAS_2012.csv\n",
      "[LOG]: Error: URGENCIAS_2012.csv\n",
      "[LOG]: Processing... Datos/Urgencias_2013/URGENCIAS_2013.csv\n",
      "[LOG]: Error: URGENCIAS_2013.csv\n",
      "[LOG]: Processing... Datos/Urgencias_2014/URGENCIAS_2014.csv\n",
      "[LOG]: Error: URGENCIAS_2014.csv\n",
      "[LOG]: Processing... Datos/Urgencias_2015/URGENCIAS_2015.csv\n",
      "[LOG]: Error: URGENCIAS_2015.csv\n",
      "[LOG]: Processing... Datos/Urgencias_2016/URGENCIAS_2016.csv\n",
      "[LOG]: Error: URGENCIAS_2016.csv\n"
     ]
    }
   ],
   "source": [
    "urgencies = pd.DataFrame(columns=['CLUES','TIPOURGENCIA','MOTATE','YEAR','tmp_trail'])\n",
    "\n",
    "for year in years:\n",
    "    path = f'Datos/Urgencias_{year}/'\n",
    "    file = f'URGENCIAS_{year}.csv'\n",
    "    \n",
    "    try:\n",
    "        # code to process the 2009 file (it doesn't cointain headers)\n",
    "        # ENTRESIDENCIA, MP y TIPOURGENCIA se empieza a reportar a partir del año 2010\n",
    "        # MUNRESIDENCIA se empieza a reportar a partir del año 2012\n",
    "        if year in ['2009']:\n",
    "            print(f'[LOG]: Processing... {path+file}')\n",
    "            urgencies_tmp = pd.read_csv(path+file, sep=\";\", header=None, \n",
    "                    names=['ID','CLUES','FOLIO','FECHAALTA',\n",
    "                    'EDAD','CVEEDAD','SEXO',#'ENTRESIDENCIA','MUNRESIDENCIA',\n",
    "                    'DERHAB',#'TIPOURGENCIA',\n",
    "                    'MOTATE','TIPOCAMA','ENVIADOA',#'MP',\n",
    "                    'AFECPRIN','IRA','PLANEDA','SOBRESEDA',\n",
    "                    'FECHAINGRESO','HORASESTANCIA','MES_ESTADISTICO',\n",
    "                    'HORAINIATE','MININIATE','HORATERATE','MINTERATE'],\n",
    "                    dtype={'ID': object,'CLUES': object,'FOLIO': object,'FECHAALTA': object,\n",
    "                    'EDAD': object,'CVEEDAD': object,'SEXO': object,#'ENTRESIDENCIA': object, 'MUNRESIDENCIA': object,\n",
    "                    'DERHAB': object,#'TIPOURGENCIA': np.float64,\n",
    "                    'MOTATE': np.float64,'TIPOCAMA': object,'ENVIADOA': object,#'MP': object,\n",
    "                    'AFECPRIN': object,'IRA': object,'PLANEDA': object,'SOBRESEDA': object,\n",
    "                    'FECHAINGRESO': object,'HORASESTANCIA': object,'MES_ESTADISTICO': object,\n",
    "                    'HORAINIATE': object,'MININIATE': object,'HORATERATE': object,'MINTERATE': object})\n",
    "            print(f'[LOG]: {file} processed.')\n",
    "        # code to process the 2010 & 2011 files (it doesn't cointain headers)\n",
    "        # MUNRESIDENCIA se empieza a reportar a partir del año 2012\n",
    "        elif year in ['2010','2011']:\n",
    "            print(f'[LOG]: Processing... {path+file}')\n",
    "            urgencies_tmp = pd.read_csv(path+file, sep=\";\", header=None, \n",
    "                    names=['ID','CLUES','FOLIO','FECHAALTA',\n",
    "                    'EDAD','CVEEDAD','SEXO','ENTRESIDENCIA',\n",
    "                    #'MUNRESIDENCIA',\n",
    "                    'DERHAB','TIPOURGENCIA',\n",
    "                    'MOTATE','TIPOCAMA','ENVIADOA','MP',\n",
    "                    'AFECPRIN','IRA','PLANEDA','SOBRESEDA',\n",
    "                    'FECHAINGRESO','HORASESTANCIA','MES_ESTADISTICO',\n",
    "                    'HORAINIATE','MININIATE','HORATERATE','MINTERATE'],\n",
    "                    dtype={'ID': object,'CLUES': object,'FOLIO': object,'FECHAALTA': object,\n",
    "                    'EDAD': object,'CVEEDAD': object,'SEXO': object,'ENTRESIDENCIA': object,\n",
    "                    #'MUNRESIDENCIA': object,\n",
    "                    'DERHAB': object,'TIPOURGENCIA': np.float64,\n",
    "                    'MOTATE': np.float64,'TIPOCAMA': object,'ENVIADOA': object,'MP': object,\n",
    "                    'AFECPRIN': object,'IRA': object,'PLANEDA': object,'SOBRESEDA': object,\n",
    "                    'FECHAINGRESO': object,'HORASESTANCIA': object,'MES_ESTADISTICO': object,\n",
    "                    'HORAINIATE': object,'MININIATE': object,'HORATERATE': object,'MINTERATE': object})\n",
    "            print(f'[LOG]: {file} processed.')\n",
    "        # code to process the 2012, 2013 & 2014 file (it doesn't cointain headers)\n",
    "        elif year in ['2012','2013','2014']:\n",
    "            print(f'[LOG]: Processing... {path+file}')\n",
    "            urgencies_tmp = pd.read_csv(path+file, sep=\";\", header=None, \n",
    "                    names=['ID','CLUES','FOLIO','FECHAALTA',\n",
    "                    'EDAD','CVEEDAD','SEXO','ENTRESIDENCIA',\n",
    "                    'MUNRESIDENCIA','DERHAB','TIPOURGENCIA',\n",
    "                    'MOTATE','TIPOCAMA','ENVIADOA','MP',\n",
    "                    'AFECPRIN','IRA','PLANEDA','SOBRESEDA',\n",
    "                    'FECHAINGRESO','HORASESTANCIA','MES_ESTADISTICO',\n",
    "                    'HORAINIATE','MININIATE','HORATERATE','MINTERATE'],\n",
    "                    dtype={'ID': object,'CLUES': object,'FOLIO': object,'FECHAALTA': object,\n",
    "                    'EDAD': object,'CVEEDAD': object,'SEXO': object,'ENTRESIDENCIA': object,\n",
    "                    'MUNRESIDENCIA': object,'DERHAB': object,'TIPOURGENCIA': np.float64,\n",
    "                    'MOTATE': np.float64,'TIPOCAMA': object,'ENVIADOA': object,'MP': object,\n",
    "                    'AFECPRIN': object,'IRA': object,'PLANEDA': object,'SOBRESEDA': object,\n",
    "                    'FECHAINGRESO': object,'HORASESTANCIA': object,'MES_ESTADISTICO': object,\n",
    "                    'HORAINIATE': object,'MININIATE': object,'HORATERATE': object,'MINTERATE': object})\n",
    "            print(f'[LOG]: {file} processed.')\n",
    "        # code to process the 2015 & 2016 file \n",
    "        else:\n",
    "            print(f'[LOG]: Processing... {path+file}')\n",
    "            urgencies_tmp = pd.read_csv(path+file,\n",
    "                    dtype={'ID': object,'CLUES': object,'FOLIO': object,'FECHAALTA': object,\n",
    "                    'EDAD': object,'CVEEDAD': object,'SEXO': object,'ENTRESIDENCIA': object,\n",
    "                    'MUNRESIDENCIA': object,'DERHAB': object,'TIPOURGENCIA': np.float64,\n",
    "                    'MOTATE': np.float64,'TIPOCAMA': object,'ENVIADOA': object,'MP': object,\n",
    "                    'AFECPRIN': object,'IRA': object,'PLANEDA': object,'SOBRESEDA': object,\n",
    "                    'FECHAINGRESO': object,'HORASESTANCIA': object,'MES_ESTADISTICO': object,\n",
    "                    'HORAINIATE': object,'MININIATE': object,'HORATERATE': object,'MINTERATE': object})\n",
    "            print(f'[LOG]: {file} processed.')\n",
    "        \n",
    "        if year in ['2009']:\n",
    "            urgencies_tmp['TIPOURGENCIA'] = -1\n",
    "        \n",
    "        urgencies_tmp = urgencies_tmp[['CLUES','TIPOURGENCIA','MOTATE']]\n",
    "        urgencies_tmp['YEAR'] = year\n",
    "        urgencies_tmp['tmp_trail'] = 1\n",
    "        \n",
    "        print(f'[LOG]: Selected: {file}')\n",
    "        \n",
    "        urgencies = pd.concat([urgencies, urgencies_tmp], ignore_index=True)\n",
    "        \n",
    "        \n",
    "        print(f'[LOG]: Appended: {file}')\n",
    "        \n",
    "        \n",
    "    except:\n",
    "        print(f'[LOG]: Error: {file}')\n",
    "    "
   ]
  },
  {
   "cell_type": "code",
   "execution_count": 242,
   "metadata": {},
   "outputs": [
    {
     "data": {
      "text/html": [
       "<div>\n",
       "<style scoped>\n",
       "    .dataframe tbody tr th:only-of-type {\n",
       "        vertical-align: middle;\n",
       "    }\n",
       "\n",
       "    .dataframe tbody tr th {\n",
       "        vertical-align: top;\n",
       "    }\n",
       "\n",
       "    .dataframe thead th {\n",
       "        text-align: right;\n",
       "    }\n",
       "</style>\n",
       "<table border=\"1\" class=\"dataframe\">\n",
       "  <thead>\n",
       "    <tr style=\"text-align: right;\">\n",
       "      <th></th>\n",
       "      <th>YEAR</th>\n",
       "      <th>count</th>\n",
       "    </tr>\n",
       "  </thead>\n",
       "  <tbody>\n",
       "  </tbody>\n",
       "</table>\n",
       "</div>"
      ],
      "text/plain": [
       "Empty DataFrame\n",
       "Columns: [YEAR, count]\n",
       "Index: []"
      ]
     },
     "execution_count": 242,
     "metadata": {},
     "output_type": "execute_result"
    }
   ],
   "source": [
    "urgencies_by_year = urgencies.groupby(['YEAR'])[\"tmp_trail\"].count().reset_index(name=\"count\")\n",
    "\n",
    "urgencies_by_year"
   ]
  },
  {
   "cell_type": "code",
   "execution_count": 243,
   "metadata": {},
   "outputs": [
    {
     "data": {
      "text/html": [
       "<div>\n",
       "<style scoped>\n",
       "    .dataframe tbody tr th:only-of-type {\n",
       "        vertical-align: middle;\n",
       "    }\n",
       "\n",
       "    .dataframe tbody tr th {\n",
       "        vertical-align: top;\n",
       "    }\n",
       "\n",
       "    .dataframe thead th {\n",
       "        text-align: right;\n",
       "    }\n",
       "</style>\n",
       "<table border=\"1\" class=\"dataframe\">\n",
       "  <thead>\n",
       "    <tr style=\"text-align: right;\">\n",
       "      <th></th>\n",
       "      <th>CLUES</th>\n",
       "      <th>TIPOURGENCIA</th>\n",
       "      <th>MOTATE</th>\n",
       "      <th>YEAR</th>\n",
       "      <th>tmp_trail</th>\n",
       "    </tr>\n",
       "  </thead>\n",
       "  <tbody>\n",
       "  </tbody>\n",
       "</table>\n",
       "</div>"
      ],
      "text/plain": [
       "Empty DataFrame\n",
       "Columns: [CLUES, TIPOURGENCIA, MOTATE, YEAR, tmp_trail]\n",
       "Index: []"
      ]
     },
     "execution_count": 243,
     "metadata": {},
     "output_type": "execute_result"
    }
   ],
   "source": [
    "urgencies.head()"
   ]
  },
  {
   "cell_type": "code",
   "execution_count": 244,
   "metadata": {},
   "outputs": [
    {
     "data": {
      "text/plain": [
       "CLUES           0\n",
       "TIPOURGENCIA    0\n",
       "MOTATE          0\n",
       "YEAR            0\n",
       "tmp_trail       0\n",
       "dtype: int64"
      ]
     },
     "execution_count": 244,
     "metadata": {},
     "output_type": "execute_result"
    }
   ],
   "source": [
    "urgencies.count()"
   ]
  },
  {
   "cell_type": "code",
   "execution_count": 245,
   "metadata": {},
   "outputs": [
    {
     "data": {
      "text/plain": [
       "CLUES           0\n",
       "TIPOURGENCIA    0\n",
       "MOTATE          0\n",
       "YEAR            0\n",
       "tmp_trail       0\n",
       "dtype: int64"
      ]
     },
     "execution_count": 245,
     "metadata": {},
     "output_type": "execute_result"
    }
   ],
   "source": [
    "urgencies_cdmx = urgencies[(urgencies['CLUES'].str.contains(\"DF\"))]\n",
    "\n",
    "urgencies_cdmx.count()"
   ]
  },
  {
   "cell_type": "code",
   "execution_count": 246,
   "metadata": {},
   "outputs": [
    {
     "data": {
      "text/html": [
       "<div>\n",
       "<style scoped>\n",
       "    .dataframe tbody tr th:only-of-type {\n",
       "        vertical-align: middle;\n",
       "    }\n",
       "\n",
       "    .dataframe tbody tr th {\n",
       "        vertical-align: top;\n",
       "    }\n",
       "\n",
       "    .dataframe thead th {\n",
       "        text-align: right;\n",
       "    }\n",
       "</style>\n",
       "<table border=\"1\" class=\"dataframe\">\n",
       "  <thead>\n",
       "    <tr style=\"text-align: right;\">\n",
       "      <th></th>\n",
       "      <th>CLUES</th>\n",
       "      <th>TIPOURGENCIA</th>\n",
       "      <th>MOTATE</th>\n",
       "      <th>YEAR</th>\n",
       "      <th>count</th>\n",
       "    </tr>\n",
       "  </thead>\n",
       "  <tbody>\n",
       "  </tbody>\n",
       "</table>\n",
       "</div>"
      ],
      "text/plain": [
       "Empty DataFrame\n",
       "Columns: [CLUES, TIPOURGENCIA, MOTATE, YEAR, count]\n",
       "Index: []"
      ]
     },
     "execution_count": 246,
     "metadata": {},
     "output_type": "execute_result"
    }
   ],
   "source": [
    "urgencies_cdmx_grouped = urgencies_cdmx.groupby(['CLUES','TIPOURGENCIA','MOTATE','YEAR'])[\"tmp_trail\"].count().reset_index(name=\"count\")\n",
    "\n",
    "urgencies_cdmx_grouped.head()"
   ]
  },
  {
   "cell_type": "code",
   "execution_count": 247,
   "metadata": {},
   "outputs": [
    {
     "data": {
      "text/plain": [
       "CLUES           0\n",
       "TIPOURGENCIA    0\n",
       "MOTATE          0\n",
       "YEAR            0\n",
       "count           0\n",
       "dtype: int64"
      ]
     },
     "execution_count": 247,
     "metadata": {},
     "output_type": "execute_result"
    }
   ],
   "source": [
    "urgencies_cdmx_grouped.count()"
   ]
  },
  {
   "cell_type": "code",
   "execution_count": 248,
   "metadata": {},
   "outputs": [],
   "source": [
    "output_file = 'data_output/urgencies_by_date.csv'\n",
    "\n",
    "urgencies_cdmx_grouped.to_csv(output_file, encoding='utf-8', index=False)"
   ]
  },
  {
   "cell_type": "markdown",
   "metadata": {},
   "source": [
    "---"
   ]
  },
  {
   "cell_type": "code",
   "execution_count": 249,
   "metadata": {},
   "outputs": [],
   "source": [
    "### Upload the file  (to not process all the info twice)\n",
    "\n",
    "#output_file = 'data_output/urgencies_by_date.csv'\n",
    "\n",
    "#urgencies_cdmx_grouped = pd.read_csv(output_file)"
   ]
  },
  {
   "cell_type": "code",
   "execution_count": 250,
   "metadata": {},
   "outputs": [
    {
     "data": {
      "text/html": [
       "<div>\n",
       "<style scoped>\n",
       "    .dataframe tbody tr th:only-of-type {\n",
       "        vertical-align: middle;\n",
       "    }\n",
       "\n",
       "    .dataframe tbody tr th {\n",
       "        vertical-align: top;\n",
       "    }\n",
       "\n",
       "    .dataframe thead th {\n",
       "        text-align: right;\n",
       "    }\n",
       "</style>\n",
       "<table border=\"1\" class=\"dataframe\">\n",
       "  <thead>\n",
       "    <tr style=\"text-align: right;\">\n",
       "      <th></th>\n",
       "      <th>CLUES</th>\n",
       "      <th>TIPOURGENCIA</th>\n",
       "      <th>MOTATE</th>\n",
       "      <th>YEAR</th>\n",
       "      <th>count</th>\n",
       "    </tr>\n",
       "  </thead>\n",
       "  <tbody>\n",
       "  </tbody>\n",
       "</table>\n",
       "</div>"
      ],
      "text/plain": [
       "Empty DataFrame\n",
       "Columns: [CLUES, TIPOURGENCIA, MOTATE, YEAR, count]\n",
       "Index: []"
      ]
     },
     "execution_count": 250,
     "metadata": {},
     "output_type": "execute_result"
    }
   ],
   "source": [
    "urgencies_cdmx_grouped.head()"
   ]
  },
  {
   "cell_type": "code",
   "execution_count": 251,
   "metadata": {},
   "outputs": [],
   "source": [
    "\n",
    "CatTipoUrgencia = {1:\"URGENCIA CALIFICADA\", \n",
    "                    2:\"URGENCIA NO CALIFICADA\", \n",
    "                    3:\"APOYO A SERVICIOS DE MEDICINA GENERAL\"}\n",
    "\n",
    "CatMotAtencionUrg = {1:\"ACCIDENTES, ENVENENAMIENTO Y VIOLENCIAS\", \n",
    "                    2:\"MEDICA\", \n",
    "                    3:\"GINECO-OBSTETRICA\", \n",
    "                    4:\"PEDIATRICA\", \n",
    "                    9:\"NO ESPECIFICADO\"}\n",
    "\n",
    "CatMotAtencionUrg_2008 = {1:\"(AEV) ACCIDENTES, ENVENENAMIENTO Y VIOLENCIAS\",\n",
    "                    2:\"(UC) URGENCIA CALIFICADA\",\n",
    "                    3:\"(UNC) URGENCIA NO CALIFICADA\",\n",
    "                    4:\"TRABAJO DE PARTO\",\n",
    "                    9:\"NO ESPECIFICADO\"}\n",
    "\n",
    "CatMotAtencionUrg_2009 = {1:\"ACCIDENTES, ENVENENAMIENTO Y VIOLENCIAS\",\n",
    "                    2:\"URGENCIA CALIFICADA MEDICA\",\n",
    "                    3:\"URGENCIA CALIFICADA QUIRURGICA\",\n",
    "                    4:\"URGENCIA CALIFICADA GINECO-OBSTETRICA\",\n",
    "                    5:\"URGENCIA CALIFICADA PEDIATRICA\",\n",
    "                    6:\"URGENCIA NO CALIFICADA\",\n",
    "                    7:\"APOYO A SERVICIOS DE MEDICINA GENERAL\",\n",
    "                    9:\"NO ESPECIFICADO\"}\n",
    "\n"
   ]
  },
  {
   "cell_type": "code",
   "execution_count": 252,
   "metadata": {},
   "outputs": [
    {
     "name": "stdout",
     "output_type": "stream",
     "text": [
      "1 - URGENCIA CALIFICADA\n",
      "2 - URGENCIA NO CALIFICADA\n",
      "3 - APOYO A SERVICIOS DE MEDICINA GENERAL\n",
      "------\n",
      "1 - ACCIDENTES, ENVENENAMIENTO Y VIOLENCIAS\n",
      "2 - MEDICA\n",
      "3 - GINECO-OBSTETRICA\n",
      "4 - PEDIATRICA\n",
      "9 - NO ESPECIFICADO\n",
      "------\n",
      "1 - ACCIDENTES, ENVENENAMIENTO Y VIOLENCIAS\n"
     ]
    },
    {
     "name": "stderr",
     "output_type": "stream",
     "text": [
      "/Users/daniel_czz/anaconda3/envs/PythonData/lib/python3.6/site-packages/pandas/core/ops.py:816: FutureWarning: elementwise comparison failed; returning scalar instead, but in the future will perform elementwise comparison\n",
      "  result = getattr(x, name)(y)\n"
     ]
    },
    {
     "ename": "TypeError",
     "evalue": "invalid type comparison",
     "output_type": "error",
     "traceback": [
      "\u001b[0;31m---------------------------------------------------------------------------\u001b[0m",
      "\u001b[0;31mTypeError\u001b[0m                                 Traceback (most recent call last)",
      "\u001b[0;32m<ipython-input-252-481e933300fa>\u001b[0m in \u001b[0;36m<module>\u001b[0;34m()\u001b[0m\n\u001b[1;32m     19\u001b[0m     \u001b[0mprint\u001b[0m\u001b[0;34m(\u001b[0m\u001b[0;34mf'{key} - {value}'\u001b[0m\u001b[0;34m)\u001b[0m\u001b[0;34m\u001b[0m\u001b[0m\n\u001b[1;32m     20\u001b[0m     urgencies_cdmx_grouped['MOTATE_V'] = np.where((urgencies_cdmx_grouped['MOTATE']==key) & \n\u001b[0;32m---> 21\u001b[0;31m                                                   \u001b[0;34m(\u001b[0m\u001b[0murgencies_cdmx_grouped\u001b[0m\u001b[0;34m[\u001b[0m\u001b[0;34m'YEAR'\u001b[0m\u001b[0;34m]\u001b[0m\u001b[0;34m==\u001b[0m\u001b[0;34m'2009'\u001b[0m\u001b[0;34m)\u001b[0m\u001b[0;34m,\u001b[0m\u001b[0;34m\u001b[0m\u001b[0m\n\u001b[0m\u001b[1;32m     22\u001b[0m                                                   value, urgencies_cdmx_grouped['MOTATE_V'])\n\u001b[1;32m     23\u001b[0m \u001b[0;34m\u001b[0m\u001b[0m\n",
      "\u001b[0;32m~/anaconda3/envs/PythonData/lib/python3.6/site-packages/pandas/core/ops.py\u001b[0m in \u001b[0;36mwrapper\u001b[0;34m(self, other, axis)\u001b[0m\n\u001b[1;32m    877\u001b[0m \u001b[0;34m\u001b[0m\u001b[0m\n\u001b[1;32m    878\u001b[0m             \u001b[0;32mwith\u001b[0m \u001b[0mnp\u001b[0m\u001b[0;34m.\u001b[0m\u001b[0merrstate\u001b[0m\u001b[0;34m(\u001b[0m\u001b[0mall\u001b[0m\u001b[0;34m=\u001b[0m\u001b[0;34m'ignore'\u001b[0m\u001b[0;34m)\u001b[0m\u001b[0;34m:\u001b[0m\u001b[0;34m\u001b[0m\u001b[0m\n\u001b[0;32m--> 879\u001b[0;31m                 \u001b[0mres\u001b[0m \u001b[0;34m=\u001b[0m \u001b[0mna_op\u001b[0m\u001b[0;34m(\u001b[0m\u001b[0mvalues\u001b[0m\u001b[0;34m,\u001b[0m \u001b[0mother\u001b[0m\u001b[0;34m)\u001b[0m\u001b[0;34m\u001b[0m\u001b[0m\n\u001b[0m\u001b[1;32m    880\u001b[0m             \u001b[0;32mif\u001b[0m \u001b[0mis_scalar\u001b[0m\u001b[0;34m(\u001b[0m\u001b[0mres\u001b[0m\u001b[0;34m)\u001b[0m\u001b[0;34m:\u001b[0m\u001b[0;34m\u001b[0m\u001b[0m\n\u001b[1;32m    881\u001b[0m                 raise TypeError('Could not compare {typ} type with Series'\n",
      "\u001b[0;32m~/anaconda3/envs/PythonData/lib/python3.6/site-packages/pandas/core/ops.py\u001b[0m in \u001b[0;36mna_op\u001b[0;34m(x, y)\u001b[0m\n\u001b[1;32m    816\u001b[0m                     \u001b[0mresult\u001b[0m \u001b[0;34m=\u001b[0m \u001b[0mgetattr\u001b[0m\u001b[0;34m(\u001b[0m\u001b[0mx\u001b[0m\u001b[0;34m,\u001b[0m \u001b[0mname\u001b[0m\u001b[0;34m)\u001b[0m\u001b[0;34m(\u001b[0m\u001b[0my\u001b[0m\u001b[0;34m)\u001b[0m\u001b[0;34m\u001b[0m\u001b[0m\n\u001b[1;32m    817\u001b[0m                 \u001b[0;32mif\u001b[0m \u001b[0mresult\u001b[0m \u001b[0;32mis\u001b[0m \u001b[0mNotImplemented\u001b[0m\u001b[0;34m:\u001b[0m\u001b[0;34m\u001b[0m\u001b[0m\n\u001b[0;32m--> 818\u001b[0;31m                     \u001b[0;32mraise\u001b[0m \u001b[0mTypeError\u001b[0m\u001b[0;34m(\u001b[0m\u001b[0;34m\"invalid type comparison\"\u001b[0m\u001b[0;34m)\u001b[0m\u001b[0;34m\u001b[0m\u001b[0m\n\u001b[0m\u001b[1;32m    819\u001b[0m             \u001b[0;32mexcept\u001b[0m \u001b[0mAttributeError\u001b[0m\u001b[0;34m:\u001b[0m\u001b[0;34m\u001b[0m\u001b[0m\n\u001b[1;32m    820\u001b[0m                 \u001b[0mresult\u001b[0m \u001b[0;34m=\u001b[0m \u001b[0mop\u001b[0m\u001b[0;34m(\u001b[0m\u001b[0mx\u001b[0m\u001b[0;34m,\u001b[0m \u001b[0my\u001b[0m\u001b[0;34m)\u001b[0m\u001b[0;34m\u001b[0m\u001b[0m\n",
      "\u001b[0;31mTypeError\u001b[0m: invalid type comparison"
     ]
    }
   ],
   "source": [
    "urgencies_cdmx_grouped['TIPOURGENCIA_V'] = ''\n",
    "urgencies_cdmx_grouped['MOTATE_V'] = ''\n",
    "\n",
    "for key, value in CatTipoUrgencia.items():\n",
    "    print(f'{key} - {value}')\n",
    "    urgencies_cdmx_grouped['TIPOURGENCIA_V'] = np.where(urgencies_cdmx_grouped['TIPOURGENCIA']==key, \n",
    "                                                        value, urgencies_cdmx_grouped['TIPOURGENCIA_V'])\n",
    "    \n",
    "print('------')    \n",
    "\n",
    "for key, value in CatMotAtencionUrg.items():\n",
    "    print(f'{key} - {value}')\n",
    "    urgencies_cdmx_grouped['MOTATE_V'] = np.where( (urgencies_cdmx_grouped['MOTATE']==key), \n",
    "                                                  value, urgencies_cdmx_grouped['MOTATE_V'])\n",
    "\n",
    "print('------')    \n",
    "\n",
    "for key, value in CatMotAtencionUrg_2009.items():\n",
    "    print(f'{key} - {value}')\n",
    "    urgencies_cdmx_grouped['MOTATE_V'] = np.where((urgencies_cdmx_grouped['MOTATE']==key) & \n",
    "                                                  (urgencies_cdmx_grouped['YEAR']=='2009'), \n",
    "                                                  value, urgencies_cdmx_grouped['MOTATE_V'])\n",
    "\n",
    "print('------ Fix 2009 - 1 - URGENCIA CALIFICADA')    \n",
    "\n",
    "\n",
    "urgencies_cdmx_grouped['TIPOURGENCIA'] = np.where((urgencies_cdmx_grouped['MOTATE'].isin([2,3,4,5])) &\n",
    "                                                    (urgencies_cdmx_grouped['YEAR']=='2009'), \n",
    "                                                    1, urgencies_cdmx_grouped['TIPOURGENCIA'])\n",
    "\n",
    "print('------ Fix 2009 - 2 - URGENCIA NO CALIFICADA')    \n",
    "\n",
    "\n",
    "urgencies_cdmx_grouped['TIPOURGENCIA'] = np.where((urgencies_cdmx_grouped['MOTATE'] == 6) &\n",
    "                                                    (urgencies_cdmx_grouped['YEAR']=='2009'), \n",
    "                                                    2, urgencies_cdmx_grouped['TIPOURGENCIA'])\n",
    "\n",
    "\n",
    "print('------ Fix 2009 - 3 - APOYO A SERVICIOS DE MEDICINA GENERAL')    \n",
    "\n",
    "\n",
    "urgencies_cdmx_grouped['TIPOURGENCIA'] = np.where((urgencies_cdmx_grouped['MOTATE'] == 7) &\n",
    "                                                    (urgencies_cdmx_grouped['YEAR']=='2009'), \n",
    "                                                    3, urgencies_cdmx_grouped['TIPOURGENCIA'])\n",
    "\n",
    "    \n",
    "print('------')  \n",
    "    \n",
    "for key, value in CatTipoUrgencia.items():\n",
    "    print(f'{key} - {value}')\n",
    "    urgencies_cdmx_grouped['TIPOURGENCIA_V'] = np.where( (urgencies_cdmx_grouped['TIPOURGENCIA']==key) &\n",
    "                                                        (urgencies_cdmx_grouped['YEAR']=='2009'), \n",
    "                                                        value, urgencies_cdmx_grouped['TIPOURGENCIA_V'])\n",
    "\n",
    "print('------ Fix 2009 MOTATE Fix') \n",
    "urgencies_cdmx_grouped['MOTATE_V'] = np.where((urgencies_cdmx_grouped['MOTATE_V']==\"URGENCIA CALIFICADA MEDICA\") & \n",
    "                                                  (urgencies_cdmx_grouped['YEAR']=='2009'), \n",
    "                                                  \"MEDICA\", urgencies_cdmx_grouped['MOTATE_V'])\n",
    "\n",
    "urgencies_cdmx_grouped['MOTATE_V'] = np.where((urgencies_cdmx_grouped['MOTATE_V']==\"URGENCIA CALIFICADA QUIRURGICA\") & \n",
    "                                                  (urgencies_cdmx_grouped['YEAR']=='2009'), \n",
    "                                                  \"QUIRURGICA\", urgencies_cdmx_grouped['MOTATE_V'])\n",
    "\n",
    "urgencies_cdmx_grouped['MOTATE_V'] = np.where((urgencies_cdmx_grouped['MOTATE_V']==\"URGENCIA CALIFICADA GINECO-OBSTETRICA\") & \n",
    "                                                  (urgencies_cdmx_grouped['YEAR']=='2009'), \n",
    "                                                  \"GINECO-OBSTETRICA\", urgencies_cdmx_grouped['MOTATE_V'])\n",
    "\n",
    "urgencies_cdmx_grouped['MOTATE_V'] = np.where((urgencies_cdmx_grouped['MOTATE_V']==\"URGENCIA CALIFICADA PEDIATRICA\") & \n",
    "                                                  (urgencies_cdmx_grouped['YEAR']=='2009'), \n",
    "                                                  \"PEDIATRICA\", urgencies_cdmx_grouped['MOTATE_V'])\n",
    "    \n"
   ]
  },
  {
   "cell_type": "markdown",
   "metadata": {},
   "source": [
    "---"
   ]
  },
  {
   "cell_type": "code",
   "execution_count": null,
   "metadata": {},
   "outputs": [],
   "source": [
    "urgencies_cdmx_grouped.head()"
   ]
  },
  {
   "cell_type": "code",
   "execution_count": null,
   "metadata": {},
   "outputs": [],
   "source": [
    "print(urgencies_cdmx_grouped.TIPOURGENCIA.unique())\n",
    "print(urgencies_cdmx_grouped.TIPOURGENCIA_V.unique())"
   ]
  },
  {
   "cell_type": "code",
   "execution_count": null,
   "metadata": {},
   "outputs": [],
   "source": [
    "print(urgencies_cdmx_grouped.MOTATE.unique())\n",
    "print(urgencies_cdmx_grouped.MOTATE_V.unique())"
   ]
  },
  {
   "cell_type": "markdown",
   "metadata": {},
   "source": [
    "---"
   ]
  },
  {
   "cell_type": "code",
   "execution_count": null,
   "metadata": {},
   "outputs": [],
   "source": [
    "empty = urgencies_cdmx_grouped[(urgencies_cdmx_grouped['MOTATE_V'] == '' )]\n",
    "\n",
    "empty.count()"
   ]
  },
  {
   "cell_type": "code",
   "execution_count": null,
   "metadata": {},
   "outputs": [],
   "source": [
    "empty = urgencies_cdmx_grouped[(urgencies_cdmx_grouped['TIPOURGENCIA_V'] == '' )]\n",
    "\n",
    "empty.count()"
   ]
  },
  {
   "cell_type": "code",
   "execution_count": null,
   "metadata": {},
   "outputs": [],
   "source": [
    "output_file = 'data_output/urgencies_by_date_cat.csv'\n",
    "\n",
    "urgencies_cdmx_grouped.to_csv(output_file, encoding='utf-8', index=False)"
   ]
  },
  {
   "cell_type": "markdown",
   "metadata": {},
   "source": [
    "---"
   ]
  },
  {
   "cell_type": "code",
   "execution_count": null,
   "metadata": {},
   "outputs": [],
   "source": [
    "### Upload the file  (to not process all the info twice)\n",
    "\n",
    "input_file_hospitals = 'data_input/hospitals.csv'\n",
    "\n",
    "hospital_list = pd.read_csv(input_file_hospitals, encoding='latin-1')\n",
    "\n",
    "hospital_list = hospital_list[['CLUES','NOMBRE DE LA ENTIDAD','CLAVE DE LA ENTIDAD','CLAVE DE LA INSTITUCION','TOTAL DE CAMAS']]\n"
   ]
  },
  {
   "cell_type": "code",
   "execution_count": null,
   "metadata": {},
   "outputs": [],
   "source": [
    "hospital_list.head()"
   ]
  },
  {
   "cell_type": "code",
   "execution_count": null,
   "metadata": {},
   "outputs": [],
   "source": [
    "hospital_list.count()"
   ]
  },
  {
   "cell_type": "code",
   "execution_count": null,
   "metadata": {},
   "outputs": [],
   "source": [
    "hospital_list_cdmx = hospital_list[(hospital_list['CLAVE DE LA ENTIDAD'] == 9 )]\n",
    "\n",
    "hospital_list_cdmx.count()"
   ]
  },
  {
   "cell_type": "code",
   "execution_count": null,
   "metadata": {},
   "outputs": [],
   "source": [
    "hospital_list_cdmx.head()"
   ]
  },
  {
   "cell_type": "markdown",
   "metadata": {},
   "source": [
    "---"
   ]
  },
  {
   "cell_type": "code",
   "execution_count": null,
   "metadata": {},
   "outputs": [],
   "source": [
    "#merged = pd.merge(hospital_list_cdmx, urgencies_cdmx_grouped, how=\"left\", on=\"CLUES\")\n",
    "merged = pd.merge(hospital_list_cdmx, urgencies_cdmx_grouped, how=\"outer\", on=\"CLUES\")"
   ]
  },
  {
   "cell_type": "code",
   "execution_count": null,
   "metadata": {},
   "outputs": [],
   "source": [
    "merged"
   ]
  },
  {
   "cell_type": "code",
   "execution_count": null,
   "metadata": {},
   "outputs": [],
   "source": [
    "output_file = 'data_output/urgencies_by_date_vs_hospitals.csv'\n",
    "\n",
    "merged.to_csv(output_file, encoding='utf-8', index=False)"
   ]
  },
  {
   "cell_type": "markdown",
   "metadata": {},
   "source": [
    "## Figures emergencies\n"
   ]
  },
  {
   "cell_type": "code",
   "execution_count": null,
   "metadata": {},
   "outputs": [],
   "source": [
    "#Files to import\n",
    "er_data_to_load = \"data_output/urgencies_by_date_cat.csv\"\n",
    "urgencies_cdmx_grouped = pd.read_csv(er_data_to_load, encoding='latin-1')\n",
    "clue_data_to_load = \"data_output/urgencies_by_date_vs_hospitals.csv\"\n",
    "clue = pd.read_csv(clue_data_to_load)\n",
    "hospital_data_to_load = \"data_output/cdmx_hospitals.csv\"\n",
    "cdmx = pd.read_csv(hospital_data_to_load)\n",
    "input_file_hospitals = 'data_input/hospitals.csv'\n",
    "hospital_list = pd.read_csv(input_file_hospitals, encoding='latin-1')\n",
    "hospital_list.head()"
   ]
  },
  {
   "cell_type": "code",
   "execution_count": null,
   "metadata": {},
   "outputs": [],
   "source": [
    "hospital_list = hospital_list[['CLUES', 'NOMBRE DE LA ENTIDAD', 'NOMBRE DEL MUNICIPIO', 'NOMBRE DE LA LOCALIDAD',\n",
    "       'NOMBRE DE LA JURISDICCION', 'CLAVE DE LA INSTITUCION', 'NOMBRE DE TIPOLOGIA', 'CONSULTORIOS DE MED GRAL', 'CONSULTORIOS EN OTRAS AREAS',\n",
    "       'TOTAL DE CONSULTORIOS', 'CAMAS EN AREA DE HOS', 'CAMAS EN OTRAS AREAS',\n",
    "       'TOTAL DE CAMAS', 'NOMBRE DE LA UNIDAD', 'NIVEL ATENCION']]\n",
    "hospital_list_cdmx = hospital_list[(hospital_list['NOMBRE DE LA ENTIDAD'] == \"CIUDAD DE MEXICO\")]\n",
    "\n",
    "hospital_list_cdmx.count()"
   ]
  },
  {
   "cell_type": "code",
   "execution_count": null,
   "metadata": {},
   "outputs": [],
   "source": [
    "#Total emergencies attended cdmx by year\n",
    "er_year = er.groupby([\"YEAR\"]).sum().reset_index()\n",
    "ax = er_year.plot.bar(x='YEAR', y='count', rot=0, figsize=(12,8), legend = False)\n",
    "plt.xticks(tick_locations, er_year[\"YEAR\"])\n",
    "plt.title(\"Mexico City medical emergencies by year\").set_size(20)\n",
    "plt.ylabel(\"Number of medical emergencies\").set_size(20)\n",
    "plt.xlabel(\"Year\").set_size(20)\n",
    "plt.savefig(\"emergencies_year.png\")\n",
    "plt.show()"
   ]
  },
  {
   "cell_type": "code",
   "execution_count": null,
   "metadata": {},
   "outputs": [],
   "source": [
    "#Number of medical emergencies by delegation\n",
    "merged_plot = pd.DataFrame(merged.groupby(['NOMBRE DEL MUNICIPIO', 'YEAR'])['count'].sum())\n",
    "table = merged_plot.pivot_table(values =\"count\", index =\"YEAR\", columns =\"NOMBRE DEL MUNICIPIO\")\n",
    "table.plot.bar(stacked=True, figsize=(20,14))\n",
    "plt.title(\"Number of medical emergencies by delegation\").set_size(20)\n",
    "plt.xlabel(\"Year\")\n",
    "plt.ylabel(\"Number of medical emergencies\")\n",
    "ax.yaxis.label.set_size(20)\n",
    "ax.xaxis.label.set_size(20)\n",
    "ax.tick_params(axis='x', labelsize=20)\n",
    "ax.tick_params(axis='y', labelsize=20)\n",
    "plt.savefig(\"emergencies_delegation_stacked.png\")\n",
    "plt.show()"
   ]
  },
  {
   "cell_type": "code",
   "execution_count": null,
   "metadata": {},
   "outputs": [],
   "source": [
    "merged_plot1 = pd.DataFrame(merged.groupby(['NOMBRE DEL MUNICIPIO'])['count'].sum())\n",
    "merged_plot1 = merged_plot1.sort_values(\"count\", ascending=True)\n",
    "merged_plot1.plot.barh(figsize=(12,8), legend = False)\n",
    "plt.xlabel(\"Number of medical emergencies\")\n",
    "plt.title(\"Number of medical emergencies by delegation\").set_size(20)\n",
    "plt.savefig(\"emergencies_delegation.png\")\n",
    "plt.show()"
   ]
  },
  {
   "cell_type": "code",
   "execution_count": null,
   "metadata": {},
   "outputs": [],
   "source": [
    "#The same merge as above, but I have conserved columns to be able to analyze data by delegation\n",
    "merged = pd.merge(hospital_list_cdmx, urgencies_cdmx_grouped, how=\"outer\", on=\"CLUES\")\n",
    "merged = merged[(merged['CLAVE DE LA INSTITUCION'] == \"SSA\")]\n",
    "merged = merged.loc[(merged[\"TOTAL DE CAMAS\"] != 0)]\n",
    "merged.count()"
   ]
  },
  {
   "cell_type": "code",
   "execution_count": null,
   "metadata": {},
   "outputs": [],
   "source": [
    "#Make a dataframe to analyze motive of attention bey delegation\n",
    "motate= pd.DataFrame(merged.groupby([\"NOMBRE DEL MUNICIPIO\", \"MOTATE_V\"])[\"count\"].sum())\n",
    "motate_tab = motate.pivot_table(values =\"count\", index =\"MOTATE_V\", columns =\"NOMBRE DEL MUNICIPIO\")\n",
    "motate_tab = motate_tab.loc[[\"ACCIDENTES, ENVENENAMIENTO Y VIOLENCIAS\", \"GINECO-OBSTETRICA\", \"MEDICA\", \"NO ESPECIFICADO\", \"PEDIATRICA\", \"QUIRURGICA\", \"URGENCIA NO CALIFICADA\" ]]\n",
    "    \n",
    "motate_tab.plot.bar(stacked=True, figsize=(16,8)) \n",
    "plt.title(\"Mexico City medical emergencies by type\").set_size(20)\n",
    "plt.xlabel(\"Number of medical emergencies\").set_size(20)\n",
    "plt.ylabel(\"Motive for atention\").set_size(20)\n",
    "plt.savefig(\"motate_del.png\")\n",
    "plt.show()"
   ]
  },
  {
   "cell_type": "code",
   "execution_count": null,
   "metadata": {},
   "outputs": [],
   "source": [
    "#Make a dataframe to analyze motive of attention (all)\n",
    "motate_gen= pd.DataFrame(merged.groupby([\"MOTATE_V\"])[\"count\"].sum())\n",
    "motate_gen.sort_values(\"count\", ascending=False)\n",
    "motate_gen = motate_gen.loc[[\"ACCIDENTES, ENVENENAMIENTO Y VIOLENCIAS\", \"GINECO-OBSTETRICA\", \"MEDICA\", \"NO ESPECIFICADO\", \"PEDIATRICA\", \"QUIRURGICA\", \"URGENCIA NO CALIFICADA\" ]]\n",
    "    \n",
    "motate_gen.plot.barh(figsize=(14, 7), legend=False)  \n",
    "plt.title(\"Mexico City medical emergencies by type\").set_size(20)\n",
    "plt.ylabel(\"Number of medical emergencies\").set_size(20)\n",
    "plt.xlabel(\"Motive for atention\").set_size(20)\n",
    "plt.savefig(\"motate.png\")\n",
    "plt.show()"
   ]
  },
  {
   "cell_type": "code",
   "execution_count": null,
   "metadata": {},
   "outputs": [],
   "source": [
    "tps = motate.pivot_table(values =\"count\", index = \"NOMBRE DEL MUNICIPIO\", columns = \"MOTATE_V\", aggfunc='sum')\n",
    "tps = tps[[\"ACCIDENTES, ENVENENAMIENTO Y VIOLENCIAS\", \"GINECO-OBSTETRICA\", \"MEDICA\", \"NO ESPECIFICADO\", \"PEDIATRICA\", \"QUIRURGICA\", \"URGENCIA NO CALIFICADA\" ]] \n",
    "tps = tps.div(tps.sum(1), axis=0)\n",
    "tps.plot(kind='bar', stacked=True, figsize=(16, 8)) \n",
    "plt.title(\"Mexico City medical emergencies by type and delegation\").set_size(20)\n",
    "plt.ylabel(\"Percentage of medical emergencies\").set_size(20)\n",
    "plt.xlabel(\"Delegation\").set_size(20)\n",
    "plt.savefig(\"motate_percent.png\")\n",
    "plt.show()"
   ]
  },
  {
   "cell_type": "code",
   "execution_count": null,
   "metadata": {},
   "outputs": [],
   "source": []
  }
 ],
 "metadata": {
  "kernelspec": {
   "display_name": "Python 3",
   "language": "python",
   "name": "python3"
  },
  "language_info": {
   "codemirror_mode": {
    "name": "ipython",
    "version": 3
   },
   "file_extension": ".py",
   "mimetype": "text/x-python",
   "name": "python",
   "nbconvert_exporter": "python",
   "pygments_lexer": "ipython3",
   "version": "3.6.4"
  }
 },
 "nbformat": 4,
 "nbformat_minor": 2
}
