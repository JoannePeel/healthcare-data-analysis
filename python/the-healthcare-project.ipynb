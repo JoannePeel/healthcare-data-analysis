{
 "cells": [
  {
   "cell_type": "markdown",
   "metadata": {},
   "source": [
    "# INEGI\n",
    "---\n",
    "\n",
    "Nuestra descripción del proyecto here"
   ]
  },
  {
   "cell_type": "code",
   "execution_count": null,
   "metadata": {},
   "outputs": [],
   "source": [
    "# Import Dependencies\n",
    "\n",
    "import requests\n",
    "import json\n",
    "import pandas as pd\n",
    "import numpy as np\n"
   ]
  },
  {
   "cell_type": "code",
   "execution_count": null,
   "metadata": {},
   "outputs": [],
   "source": [
    "#API connect\n",
    "\n",
    "# API Key\n",
    "key_access_token = \"98658d62-9bec-54fb-b211-e67c426a7176\"\n",
    "\n",
    "# url = \"https://www.inegi.org.mx/app/api/indicadores/desarrolladores/jsonxml/INDICATOR/6207051584/es/00000/true/BISE/2.0/98658d62-9bec-54fb-b211-e67c426a7176?type=json\"\n",
    "url_part_1 = \"https://www.inegi.org.mx/app/api/indicadores/desarrolladores/jsonxml/INDICATOR/\"\n",
    "url_part_2 = f\"/es/09/true/BISE/2.0/{key_access_token}?type=json\"\n",
    "\n"
   ]
  },
  {
   "cell_type": "markdown",
   "metadata": {},
   "source": [
    "### Data Retrieval"
   ]
  },
  {
   "cell_type": "code",
   "execution_count": null,
   "metadata": {},
   "outputs": [],
   "source": [
    "\n",
    "api_list = [\"6200240471\", \"6200240421\", \"6200240323\", \"6200240517\", \"6200240414\", \"6200240416\", \n",
    "            \"6207019017\", \"6207019013\", \"6207019018\", \"6207049072\", \"6207049073\"]\n",
    "indicador_list = [\"Porcentaje de la población derechohabiente en el IMSS\",\n",
    "                  \"Porcentaje de la población derechohabiente en el ISSSTE\", \n",
    "                  \"Porcentaje de la población derechohabiente en el Seguro popular\", \n",
    "                  \"Porcentaje de la población derechohabiente en otras instituciones\", \n",
    "                  \"Porcentaje de la población derechohabiente en PEMEX, SDN o SM\", \n",
    "                  \"Porcentaje de la población usuaria de servicios de salud en instituciones de seguridad social\", \n",
    "                  \"Porcentaje de la población usuaria de servicios de salud en instituciones de servicios médicos privados\", \n",
    "                  \"Porcentaje de población afiliada a otra institución\", \n",
    "                  \"Porcentaje de población afiliada a seguro privado\", \n",
    "                  \"Porcentaje de población afiliada a servicios de salud\", \n",
    "                  \"Porcentaje de población no afiliada a servicios de salud\", \n",
    "                  \"Porcentaje de población que no especificó su afiliación a servicios de salud\"]\n",
    "\n",
    "\n",
    "#creating data frame for storing the info\n",
    "inegi_data = pd.DataFrame(columns=['Indicador', 'OBS_VALUE']);\n",
    "\n",
    "processed = 0\n",
    "\n",
    "for api_value in api_list:\n",
    "    print(processed)\n",
    "    \n",
    "    query_url = url_part_1 + api_value + url_part_2\n",
    "    \n",
    "    try:\n",
    "        response = requests.get(query_url).json()\n",
    "        #print(response['Header'])\n",
    "        data = response['Series']\n",
    "        data_2 = data[0]['OBSERVATIONS']\n",
    "        #print(\"data\")\n",
    "        #print(data_2[0]['OBS_VALUE'])\n",
    "        print(f'   El indicador: {indicador_list[processed]} \\n tiene un valor observado de: ', data_2[0]['OBS_VALUE'])\n",
    "\n",
    "        inegi_data.at[processed, 'Indicador'] = indicador_list[processed]\n",
    "        inegi_data.at[processed, 'OBS_VALUE'] = data_2[0]['OBS_VALUE']\n",
    "\n",
    "        \n",
    "    except:\n",
    "        print (\"------ Data Error ------\")\n",
    "        print(indicador_list[processed])\n",
    "        inegi_data.at[processed, 'Indicador'] = indicador_list[processed]\n",
    "        inegi_data.at[processed, 'OBS_VALUE'] = np.nan\n",
    "        print (\"------------------------\")\n",
    "    \n",
    "    processed += 1\n",
    "    \n",
    "    "
   ]
  },
  {
   "cell_type": "markdown",
   "metadata": {},
   "source": [
    "### Data review"
   ]
  },
  {
   "cell_type": "raw",
   "metadata": {},
   "source": []
  },
  {
   "cell_type": "markdown",
   "metadata": {},
   "source": [
    "inegi_data"
   ]
  },
  {
   "cell_type": "code",
   "execution_count": null,
   "metadata": {},
   "outputs": [],
   "source": []
  }
 ],
 "metadata": {
  "kernelspec": {
   "display_name": "Python 3",
   "language": "python",
   "name": "python3"
  },
  "language_info": {
   "codemirror_mode": {
    "name": "ipython",
    "version": 3
   },
   "file_extension": ".py",
   "mimetype": "text/x-python",
   "name": "python",
   "nbconvert_exporter": "python",
   "pygments_lexer": "ipython3",
   "version": "3.6.6"
  }
 },
 "nbformat": 4,
 "nbformat_minor": 2
}
